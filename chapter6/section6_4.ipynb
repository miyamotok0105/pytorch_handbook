{
 "cells": [
  {
   "cell_type": "code",
   "execution_count": null,
   "metadata": {
    "colab": {},
    "colab_type": "code",
    "id": "zpRXnZ3qcxMl"
   },
   "outputs": [],
   "source": [
    "# #colabを使う方はこちらを使用ください。\n",
    "# !pip install torch==1.5.0\n",
    "# !pip install torchvision==0.6.0\n",
    "# !pip install torchtext==0.3.1\n",
    "# !pip install numpy==1.21.6\n",
    "# !pip install matplotlib==3.2.2\n",
    "# !pip install Pillow==7.1.2\n",
    "# !pip install opencv-python==4.6.0"
   ]
  },
  {
   "cell_type": "code",
   "execution_count": 2,
   "metadata": {
    "colab": {},
    "colab_type": "code",
    "id": "g1YT56IaUp7D"
   },
   "outputs": [],
   "source": [
    "#執筆時点で存在するcolab固有のエラーを回避\n",
    "from PIL import Image\n",
    "def register_extension(id, extension): \n",
    "    Image.EXTENSION[extension.lower()] = id.upper()\n",
    "Image.register_extension = register_extension\n",
    "def register_extensions(id, extensions): \n",
    "    for extension in extensions: \n",
    "        register_extension(id, extension)\n",
    "Image.register_extensions = register_extensions\n"
   ]
  },
  {
   "attachments": {},
   "cell_type": "markdown",
   "metadata": {},
   "source": [
    "colabを使う方は以下セルのコメントアウトを解除して実行してください\n",
    "\n",
    "Google Driveにマウント"
   ]
  },
  {
   "cell_type": "code",
   "execution_count": 3,
   "metadata": {
    "colab": {
     "base_uri": "https://localhost:8080/",
     "height": 34
    },
    "colab_type": "code",
    "id": "11FPu6O9dAjw",
    "outputId": "2d304ae3-4211-4ed0-bbf3-7811d2be3af6"
   },
   "outputs": [],
   "source": [
    "# from google.colab import drive\n",
    "# drive.mount('/content/gdrive')"
   ]
  },
  {
   "attachments": {},
   "cell_type": "markdown",
   "metadata": {},
   "source": [
    "変更の必要がある場合はパスを変更してください。"
   ]
  },
  {
   "cell_type": "code",
   "execution_count": 4,
   "metadata": {
    "colab": {
     "base_uri": "https://localhost:8080/",
     "height": 34
    },
    "colab_type": "code",
    "id": "MIOat2A3dH7m",
    "outputId": "3deafddd-70ee-4ef9-9f01-16f0fa422bc5"
   },
   "outputs": [],
   "source": [
    "# cd /content/gdrive/My Drive/Colab Notebooks/pytorch_handbook/chapter6/"
   ]
  },
  {
   "cell_type": "code",
   "execution_count": 5,
   "metadata": {
    "colab": {
     "base_uri": "https://localhost:8080/",
     "height": 51
    },
    "colab_type": "code",
    "id": "34z3rH24dKhu",
    "outputId": "ad0b11c7-6992-4980-9c03-5b247376e66e"
   },
   "outputs": [],
   "source": [
    "# !ls"
   ]
  },
  {
   "cell_type": "code",
   "execution_count": 6,
   "metadata": {
    "colab": {},
    "colab_type": "code",
    "id": "pKAU9MdKEGRu"
   },
   "outputs": [],
   "source": [
    "import os\n",
    "import random\n",
    "import numpy as np\n",
    "\n",
    "import torch.nn as nn\n",
    "import torch.optim as optim\n",
    "import torch.utils.data\n",
    "import torchvision.datasets as dset\n",
    "import torchvision.transforms as transforms\n",
    "import torchvision.utils as vutils\n",
    "\n",
    "from net import weights_init, Generator, Discriminator"
   ]
  },
  {
   "cell_type": "code",
   "execution_count": 7,
   "metadata": {
    "colab": {},
    "colab_type": "code",
    "id": "ZDBmvWisEGRy"
   },
   "outputs": [],
   "source": [
    "def onehot_encode(label, device, n_class=10):\n",
    "    \"\"\"\n",
    "    カテゴリカル変数のラベルをOne-Hot形式に変換する\n",
    "    :param label: 変換対象のラベル\n",
    "    :param device: 学習に使用するデバイス。CPUあるいはGPU\n",
    "    :param n_class: ラベルのクラス数\n",
    "    :return:\n",
    "    \"\"\"\n",
    "    eye = torch.eye(n_class, device=device)\n",
    "    # ランダムベクトルあるいは画像と連結するために(B, c_class, 1, 1)のTensorにして戻す\n",
    "    return eye[label].view(-1, n_class, 1, 1)   "
   ]
  },
  {
   "cell_type": "code",
   "execution_count": 8,
   "metadata": {
    "colab": {},
    "colab_type": "code",
    "id": "GO9cyPyNEGR0"
   },
   "outputs": [],
   "source": [
    "def concat_image_label(image, label, device, n_class=10):\n",
    "    \"\"\"\n",
    "    画像とラベルを連結する\n",
    "    :param image: 画像\n",
    "    :param label: ラベル\n",
    "    :param device: 学習に使用するデバイス。CPUあるいはGPU\n",
    "    :param n_class: ラベルのクラス数\n",
    "    :return: 画像とラベルをチャネル方向に連結したTensor\n",
    "    \"\"\"\n",
    "    B, C, H, W = image.shape    # 画像Tensorの大きさを取得\n",
    "    \n",
    "    oh_label = onehot_encode(label, device)         # ラベルをOne-Hotベクトル化\n",
    "    oh_label = oh_label.expand(B, n_class, H, W)    # 画像のサイズに合わせるようラベルを拡張する\n",
    "    return torch.cat((image, oh_label), dim=1)      # 画像とラベルをチャネル方向（dim=1）で連結する"
   ]
  },
  {
   "cell_type": "code",
   "execution_count": 9,
   "metadata": {
    "colab": {},
    "colab_type": "code",
    "id": "iVRqLztIEGR3"
   },
   "outputs": [],
   "source": [
    "def concat_noise_label(noise, label, device):\n",
    "    \"\"\"\n",
    "    ノイズ（ランダムベクトル）とラベルを連結する\n",
    "    :param noise: ノイズ\n",
    "    :param label: ラベル\n",
    "    :param device: 学習に使用するデバイス。CPUあるいはGPU\n",
    "    :return: ノイズとラベルを連結したTensor\n",
    "    \"\"\"\n",
    "    oh_label = onehot_encode(label, device)     # ラベルをOne-Hotベクトル化\n",
    "    return torch.cat((noise, oh_label), dim=1)  # ノイズとラベルをチャネル方向（dim=1）で連結する"
   ]
  },
  {
   "cell_type": "code",
   "execution_count": 10,
   "metadata": {
    "colab": {
     "base_uri": "https://localhost:8080/",
     "height": 34
    },
    "colab_type": "code",
    "id": "ylkPJXzgEGR6",
    "outputId": "f7ba264c-84b0-49fb-ebaf-b94b2932741c"
   },
   "outputs": [
    {
     "data": {
      "text/plain": [
       "<torch._C.Generator at 0x7fe4101426b0>"
      ]
     },
     "execution_count": 10,
     "metadata": {},
     "output_type": "execute_result"
    }
   ],
   "source": [
    "workers = 2\n",
    "batch_size = 50\n",
    "nz = 100\n",
    "nch_g = 64\n",
    "nch_d = 64\n",
    "n_epoch = 200\n",
    "lr = 0.0002\n",
    "beta1 = 0.5\n",
    "outf = './result_cgan'\n",
    "display_interval = 100\n",
    "\n",
    "try:\n",
    "    os.makedirs(outf)\n",
    "except OSError:\n",
    "    pass\n",
    "\n",
    "random.seed(0)\n",
    "np.random.seed(0)\n",
    "torch.manual_seed(0)"
   ]
  },
  {
   "cell_type": "code",
   "execution_count": 11,
   "metadata": {
    "colab": {
     "base_uri": "https://localhost:8080/",
     "height": 68
    },
    "colab_type": "code",
    "id": "TXYnAcifEGR8",
    "outputId": "2cf21b72-4482-416b-9258-3d8c82102fcd"
   },
   "outputs": [
    {
     "name": "stdout",
     "output_type": "stream",
     "text": [
      "Files already downloaded and verified\n",
      "Files already downloaded and verified\n",
      "device: cuda:0\n"
     ]
    }
   ],
   "source": [
    "trainset = dset.STL10(\n",
    "    root='./dataset/stl10_root',\n",
    "    download=True,\n",
    "    split='train',\n",
    "    transform=transforms.Compose([\n",
    "        transforms.RandomResizedCrop(64, scale=(88/96, 1.0), ratio=(1., 1.)),\n",
    "        transforms.RandomHorizontalFlip(),\n",
    "        transforms.ColorJitter(brightness=0.05, contrast=0.05, saturation=0.05, hue=0.05),\n",
    "        transforms.ToTensor(),\n",
    "        transforms.Normalize((0.5, 0.5, 0.5), (0.5, 0.5, 0.5)),\n",
    "    ]))   # ラベルを使用するのでunlabeledを含めない\n",
    "\n",
    "testset = dset.STL10(\n",
    "    root='./dataset/stl10_root',\n",
    "    download=True,\n",
    "    split='test',\n",
    "    transform=transforms.Compose([\n",
    "        transforms.RandomResizedCrop(64, scale=(88/96, 1.0), ratio=(1., 1.)),\n",
    "        transforms.RandomHorizontalFlip(),\n",
    "        transforms.ColorJitter(brightness=0.05, contrast=0.05, saturation=0.05, hue=0.05),\n",
    "        transforms.ToTensor(),\n",
    "        transforms.Normalize((0.5, 0.5, 0.5), (0.5, 0.5, 0.5)),\n",
    "    ]))\n",
    "\n",
    "dataset = trainset + testset\n",
    "\n",
    "dataloader = torch.utils.data.DataLoader(dataset, batch_size=batch_size,\n",
    "                                         shuffle=True, num_workers=int(workers))\n",
    "\n",
    "device = torch.device('cuda:0' if torch.cuda.is_available() else 'cpu')\n",
    "print('device:', device)"
   ]
  },
  {
   "cell_type": "code",
   "execution_count": 12,
   "metadata": {
    "colab": {
     "base_uri": "https://localhost:8080/",
     "height": 493
    },
    "colab_type": "code",
    "id": "ZYz-08POEGR_",
    "outputId": "e7b52fe6-f232-4e94-be97-352fcb7d711f"
   },
   "outputs": [
    {
     "name": "stdout",
     "output_type": "stream",
     "text": [
      "Generator(\n",
      "  (layers): ModuleDict(\n",
      "    (layer0): Sequential(\n",
      "      (0): ConvTranspose2d(110, 512, kernel_size=(4, 4), stride=(1, 1))\n",
      "      (1): BatchNorm2d(512, eps=1e-05, momentum=0.1, affine=True, track_running_stats=True)\n",
      "      (2): ReLU()\n",
      "    )\n",
      "    (layer1): Sequential(\n",
      "      (0): ConvTranspose2d(512, 256, kernel_size=(4, 4), stride=(2, 2), padding=(1, 1))\n",
      "      (1): BatchNorm2d(256, eps=1e-05, momentum=0.1, affine=True, track_running_stats=True)\n",
      "      (2): ReLU()\n",
      "    )\n",
      "    (layer2): Sequential(\n",
      "      (0): ConvTranspose2d(256, 128, kernel_size=(4, 4), stride=(2, 2), padding=(1, 1))\n",
      "      (1): BatchNorm2d(128, eps=1e-05, momentum=0.1, affine=True, track_running_stats=True)\n",
      "      (2): ReLU()\n",
      "    )\n",
      "    (layer3): Sequential(\n",
      "      (0): ConvTranspose2d(128, 64, kernel_size=(4, 4), stride=(2, 2), padding=(1, 1))\n",
      "      (1): BatchNorm2d(64, eps=1e-05, momentum=0.1, affine=True, track_running_stats=True)\n",
      "      (2): ReLU()\n",
      "    )\n",
      "    (layer4): Sequential(\n",
      "      (0): ConvTranspose2d(64, 3, kernel_size=(4, 4), stride=(2, 2), padding=(1, 1))\n",
      "      (1): Tanh()\n",
      "    )\n",
      "  )\n",
      ")\n"
     ]
    }
   ],
   "source": [
    "# 生成器G。ランダムベクトルとラベルを連結したベクトルから贋作画像を生成する\n",
    "netG = Generator(nz=nz+10, nch_g=nch_g).to(device)   # 入力ベクトルの次元は、ランダムベクトルの次元nzにクラス数10を加算したもの\n",
    "netG.apply(weights_init)\n",
    "print(netG)"
   ]
  },
  {
   "cell_type": "code",
   "execution_count": 13,
   "metadata": {
    "colab": {
     "base_uri": "https://localhost:8080/",
     "height": 425
    },
    "colab_type": "code",
    "id": "MSc1GjkIEGSC",
    "outputId": "58e6a33c-08ca-4741-86b8-a08b4e049efc"
   },
   "outputs": [
    {
     "name": "stdout",
     "output_type": "stream",
     "text": [
      "Discriminator(\n",
      "  (layers): ModuleDict(\n",
      "    (layer0): Sequential(\n",
      "      (0): Conv2d(13, 64, kernel_size=(4, 4), stride=(2, 2), padding=(1, 1))\n",
      "      (1): LeakyReLU(negative_slope=0.2)\n",
      "    )\n",
      "    (layer1): Sequential(\n",
      "      (0): Conv2d(64, 128, kernel_size=(4, 4), stride=(2, 2), padding=(1, 1))\n",
      "      (1): BatchNorm2d(128, eps=1e-05, momentum=0.1, affine=True, track_running_stats=True)\n",
      "      (2): LeakyReLU(negative_slope=0.2)\n",
      "    )\n",
      "    (layer2): Sequential(\n",
      "      (0): Conv2d(128, 256, kernel_size=(4, 4), stride=(2, 2), padding=(1, 1))\n",
      "      (1): BatchNorm2d(256, eps=1e-05, momentum=0.1, affine=True, track_running_stats=True)\n",
      "      (2): LeakyReLU(negative_slope=0.2)\n",
      "    )\n",
      "    (layer3): Sequential(\n",
      "      (0): Conv2d(256, 512, kernel_size=(4, 4), stride=(2, 2), padding=(1, 1))\n",
      "      (1): BatchNorm2d(512, eps=1e-05, momentum=0.1, affine=True, track_running_stats=True)\n",
      "      (2): LeakyReLU(negative_slope=0.2)\n",
      "    )\n",
      "    (layer4): Conv2d(512, 1, kernel_size=(4, 4), stride=(1, 1))\n",
      "  )\n",
      ")\n"
     ]
    }
   ],
   "source": [
    "# 識別器D。画像とラベルを連結したTensorが、元画像か贋作画像かを識別する\n",
    "netD = Discriminator(nch=3+10, nch_d=nch_d).to(device)   # 入力Tensorのチャネル数は、画像のチャネル数3にクラス数10を加算したもの\n",
    "netD.apply(weights_init)\n",
    "print(netD)"
   ]
  },
  {
   "cell_type": "code",
   "execution_count": 14,
   "metadata": {
    "colab": {},
    "colab_type": "code",
    "id": "WIOjtuvSEGSG"
   },
   "outputs": [],
   "source": [
    "criterion = nn.MSELoss()\n",
    "\n",
    "optimizerD = optim.Adam(netD.parameters(), lr=lr, betas=(beta1, 0.999), weight_decay=1e-5)\n",
    "optimizerG = optim.Adam(netG.parameters(), lr=lr, betas=(beta1, 0.999), weight_decay=1e-5)\n",
    "\n",
    "fixed_noise = torch.randn(batch_size, nz, 1, 1, device=device)\n",
    "\n",
    "fixed_label = [i for i in range(10)] * (batch_size // 10)  # 確認用のラベル。0〜9のラベルの繰り返し\n",
    "fixed_label = torch.tensor(fixed_label, dtype=torch.long, device=device)\n",
    "\n",
    "fixed_noise_label = concat_noise_label(fixed_noise, fixed_label, device)  # 確認用のノイズとラベルを連結"
   ]
  },
  {
   "cell_type": "code",
   "execution_count": null,
   "metadata": {
    "colab": {
     "base_uri": "https://localhost:8080/",
     "height": 629
    },
    "colab_type": "code",
    "id": "n4unIheuEGSJ",
    "outputId": "adbe6e41-0710-4458-bc18-9ed7c4d8ac43"
   },
   "outputs": [
    {
     "name": "stdout",
     "output_type": "stream",
     "text": [
      "[1/200][1/260] Loss_D: 1.958 Loss_G: 31.280 D(x): 0.480 D(G(z)): 0.105/1.759\n",
      "[1/200][101/260] Loss_D: 0.464 Loss_G: 0.736 D(x): 0.705 D(G(z)): -0.076/0.243\n",
      "[1/200][201/260] Loss_D: 0.352 Loss_G: 0.575 D(x): 0.644 D(G(z)): 0.192/0.284\n",
      "[2/200][1/260] Loss_D: 0.443 Loss_G: 1.205 D(x): 0.737 D(G(z)): 0.284/-0.030\n",
      "[2/200][101/260] Loss_D: 0.477 Loss_G: 0.621 D(x): 0.628 D(G(z)): 0.444/0.253\n",
      "[2/200][201/260] Loss_D: 0.088 Loss_G: 1.031 D(x): 0.941 D(G(z)): -0.003/-0.006\n",
      "[3/200][1/260] Loss_D: 0.326 Loss_G: 2.026 D(x): 0.832 D(G(z)): 0.381/-0.398\n",
      "[3/200][101/260] Loss_D: 0.491 Loss_G: 0.318 D(x): 0.388 D(G(z)): 0.106/0.474\n",
      "[3/200][201/260] Loss_D: 0.330 Loss_G: 0.808 D(x): 0.704 D(G(z)): 0.308/0.141\n"
     ]
    }
   ],
   "source": [
    "# 学習のループ\n",
    "for epoch in range(n_epoch):\n",
    "    for itr, data in enumerate(dataloader):\n",
    "        real_image = data[0].to(device)     # 元画像\n",
    "        real_label = data[1].to(device)     # 元画像に対応するラベル\n",
    "        real_image_label = concat_image_label(real_image, real_label, device)   # 元画像とラベルを連結\n",
    "\n",
    "        sample_size = real_image.size(0)\n",
    "        noise = torch.randn(sample_size, nz, 1, 1, device=device)\n",
    "        fake_label = torch.randint(10, (sample_size,), dtype=torch.long, device=device)     # 贋作画像生成用のラベル\n",
    "        fake_noise_label = concat_noise_label(noise, fake_label, device)    # ノイズとラベルを連結\n",
    "        \n",
    "        real_target = torch.full((sample_size,), 1., device=device)\n",
    "        fake_target = torch.full((sample_size,), 0., device=device)\n",
    "\n",
    "        ############################\n",
    "        # 識別器Dの更新\n",
    "        ###########################\n",
    "        netD.zero_grad()\n",
    "\n",
    "        output = netD(real_image_label)     # 識別器Dで元画像とラベルの組み合わせに対する識別信号を出力\n",
    "        errD_real = criterion(output, real_target)        \n",
    "        D_x = output.mean().item()\n",
    "\n",
    "        fake_image = netG(fake_noise_label)     # 生成器Gでラベルに対応した贋作画像を生成\n",
    "        fake_image_label = concat_image_label(fake_image, fake_label, device)   # 贋作画像とラベルを連結\n",
    "\n",
    "        output = netD(fake_image_label.detach())    # 識別器Dで贋作画像とラベルの組み合わせに対する識別信号を出力\n",
    "        errD_fake = criterion(output, fake_target)\n",
    "        D_G_z1 = output.mean().item()\n",
    "\n",
    "        errD = errD_real + errD_fake\n",
    "        errD.backward()\n",
    "        optimizerD.step()\n",
    "\n",
    "        ############################\n",
    "        # 生成器Gの更新\n",
    "        ###########################\n",
    "        netG.zero_grad()\n",
    "        \n",
    "        output = netD(fake_image_label)     # 更新した識別器Dで改めて贋作画像とラベルの組み合わせに対する識別信号を出力\n",
    "        errG = criterion(output, real_target)\n",
    "        errG.backward()\n",
    "        D_G_z2 = output.mean().item()\n",
    "        \n",
    "        optimizerG.step()\n",
    "\n",
    "        if itr % display_interval == 0:\n",
    "            print('[{}/{}][{}/{}] Loss_D: {:.3f} Loss_G: {:.3f} D(x): {:.3f} D(G(z)): {:.3f}/{:.3f}'\n",
    "                  .format(epoch + 1, n_epoch,\n",
    "                          itr + 1, len(dataloader),\n",
    "                          errD.item(), errG.item(), D_x, D_G_z1, D_G_z2))\n",
    "\n",
    "        if epoch == 0 and itr == 0:\n",
    "            vutils.save_image(real_image, '{}/real_samples.png'.format(outf),\n",
    "                              normalize=True, nrow=10)\n",
    "\n",
    "    ############################\n",
    "    # 確認用画像の生成\n",
    "    ############################\n",
    "    fake_image = netG(fixed_noise_label)    # 1エポック終了ごとに、指定したラベルに対応する贋作画像を生成する\n",
    "    vutils.save_image(fake_image.detach(), '{}/fake_samples_epoch_{:03d}.png'.format(outf, epoch + 1),\n",
    "                      normalize=True, nrow=10)\n",
    "\n",
    "    ############################\n",
    "    # モデルの保存\n",
    "    ############################\n",
    "    if (epoch + 1) % 50 == 0:\n",
    "        torch.save(netG.state_dict(), '{}/netG_epoch_{}.pth'.format(outf, epoch + 1))\n",
    "        torch.save(netD.state_dict(), '{}/netD_epoch_{}.pth'.format(outf, epoch + 1))"
   ]
  },
  {
   "cell_type": "code",
   "execution_count": null,
   "metadata": {
    "colab": {},
    "colab_type": "code",
    "id": "D1PemeWySvW6"
   },
   "outputs": [],
   "source": []
  }
 ],
 "metadata": {
  "accelerator": "GPU",
  "colab": {
   "collapsed_sections": [],
   "name": "section6_4.ipynb",
   "provenance": [],
   "version": "0.3.2"
  },
  "kernelspec": {
   "display_name": "pytorch_handbook-cxE4JzpW",
   "language": "python",
   "name": "python3"
  },
  "language_info": {
   "codemirror_mode": {
    "name": "ipython",
    "version": 3
   },
   "file_extension": ".py",
   "mimetype": "text/x-python",
   "name": "python",
   "nbconvert_exporter": "python",
   "pygments_lexer": "ipython3",
   "version": "3.6.13 (default, Feb 12 2023, 23:20:22) \n[GCC 7.5.0]"
  },
  "vscode": {
   "interpreter": {
    "hash": "1a1627ff8c3f0278be0285d4bfdc18dde91f8374edbf4a554c43de70be81795e"
   }
  }
 },
 "nbformat": 4,
 "nbformat_minor": 1
}
