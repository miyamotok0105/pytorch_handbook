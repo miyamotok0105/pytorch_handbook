{
 "cells": [
  {
   "cell_type": "code",
   "execution_count": 1,
   "metadata": {
    "colab": {
     "base_uri": "https://localhost:8080/",
     "height": 702
    },
    "colab_type": "code",
    "executionInfo": {
     "elapsed": 69623,
     "status": "ok",
     "timestamp": 1540962207473,
     "user": {
      "displayName": "宮本圭一郎",
      "photoUrl": "https://lh5.googleusercontent.com/-5BLtx8oPSy8/AAAAAAAAAAI/AAAAAAAALtI/-tIwIsmAvCs/s64/photo.jpg",
      "userId": "00037817427736046144"
     },
     "user_tz": -540
    },
    "id": "ne9q7ON6f8wW",
    "outputId": "23f83274-0f5d-42b0-a25e-d5d80ca772ef"
   },
   "outputs": [],
   "source": [
    "# #colabを使う方はこちらを使用ください。\n",
    "# !pip install torch==1.5.0\n",
    "# !pip install torchvision==0.6.0\n",
    "# !pip install torchtext==0.3.1\n",
    "# !pip install numpy==1.21.6\n",
    "# !pip install matplotlib==3.2.2\n",
    "# !pip install Pillow==7.1.2\n",
    "# !pip install opencv-python==4.6.0"
   ]
  },
  {
   "cell_type": "markdown",
   "metadata": {
    "colab_type": "text",
    "id": "9h8JAri3V2sf"
   },
   "source": [
    "# 第8章 torchパッケージ"
   ]
  },
  {
   "cell_type": "markdown",
   "metadata": {
    "colab_type": "text",
    "id": "r-tGZKIkxuIJ"
   },
   "source": [
    "# 8.2 インデックス、スライシング、結合によるTensorの作成\n",
    "\n"
   ]
  },
  {
   "cell_type": "code",
   "execution_count": 8,
   "metadata": {
    "colab": {},
    "colab_type": "code",
    "id": "OmkEK3OJgPWH"
   },
   "outputs": [],
   "source": [
    "import torch\n",
    "import numpy as np"
   ]
  },
  {
   "cell_type": "markdown",
   "metadata": {
    "colab_type": "text",
    "id": "FEQiwDsIyJX3"
   },
   "source": [
    "## torch.cat\n"
   ]
  },
  {
   "cell_type": "code",
   "execution_count": 9,
   "metadata": {
    "colab": {},
    "colab_type": "code",
    "id": "C_si-WEvx2Fl"
   },
   "outputs": [
    {
     "data": {
      "text/plain": [
       "tensor([[-0.8634,  0.2428, -0.0898],\n",
       "        [ 0.2704, -0.7322,  0.5783]])"
      ]
     },
     "execution_count": 9,
     "metadata": {},
     "output_type": "execute_result"
    }
   ],
   "source": [
    "#指定された次元の指定されたシーケンスTensor同士を連結する\n",
    "x = torch.randn(2, 3)\n",
    "x"
   ]
  },
  {
   "cell_type": "code",
   "execution_count": 10,
   "metadata": {
    "colab": {},
    "colab_type": "code",
    "id": "rKQgr7K7ydtu"
   },
   "outputs": [
    {
     "data": {
      "text/plain": [
       "tensor([[-0.8634,  0.2428, -0.0898],\n",
       "        [ 0.2704, -0.7322,  0.5783],\n",
       "        [-0.8634,  0.2428, -0.0898],\n",
       "        [ 0.2704, -0.7322,  0.5783],\n",
       "        [-0.8634,  0.2428, -0.0898],\n",
       "        [ 0.2704, -0.7322,  0.5783]])"
      ]
     },
     "execution_count": 10,
     "metadata": {},
     "output_type": "execute_result"
    }
   ],
   "source": [
    "torch.cat((x, x, x), 0)"
   ]
  },
  {
   "cell_type": "code",
   "execution_count": 11,
   "metadata": {
    "colab": {},
    "colab_type": "code",
    "id": "SymLHmIkyhxy"
   },
   "outputs": [
    {
     "data": {
      "text/plain": [
       "tensor([[-0.8634,  0.2428, -0.0898, -0.8634,  0.2428, -0.0898, -0.8634,  0.2428,\n",
       "         -0.0898],\n",
       "        [ 0.2704, -0.7322,  0.5783,  0.2704, -0.7322,  0.5783,  0.2704, -0.7322,\n",
       "          0.5783]])"
      ]
     },
     "execution_count": 11,
     "metadata": {},
     "output_type": "execute_result"
    }
   ],
   "source": [
    "torch.cat((x, x, x), 1)"
   ]
  },
  {
   "cell_type": "markdown",
   "metadata": {
    "colab_type": "text",
    "id": "ljUhkmZEAz91"
   },
   "source": [
    "## torch.index_select"
   ]
  },
  {
   "cell_type": "code",
   "execution_count": 12,
   "metadata": {
    "colab": {},
    "colab_type": "code",
    "id": "qNAqq2NPyjjk"
   },
   "outputs": [
    {
     "data": {
      "text/plain": [
       "tensor([[-0.7763, -2.1231,  0.1880,  1.1897],\n",
       "        [ 0.9949,  1.7188, -0.1519, -0.2163],\n",
       "        [ 0.4957, -0.2690, -0.8190,  1.1134]])"
      ]
     },
     "execution_count": 12,
     "metadata": {},
     "output_type": "execute_result"
    }
   ],
   "source": [
    "#インデックスを指定して既存のTensorからTensorを切り出す\n",
    "x = torch.randn(3, 4)\n",
    "x"
   ]
  },
  {
   "cell_type": "code",
   "execution_count": 13,
   "metadata": {
    "colab": {},
    "colab_type": "code",
    "id": "GFfEzi5r5Kqk"
   },
   "outputs": [
    {
     "data": {
      "text/plain": [
       "tensor([ 0.9949,  1.7188, -0.1519, -0.2163])"
      ]
     },
     "execution_count": 13,
     "metadata": {},
     "output_type": "execute_result"
    }
   ],
   "source": [
    "x[1]"
   ]
  },
  {
   "cell_type": "code",
   "execution_count": 14,
   "metadata": {
    "colab": {},
    "colab_type": "code",
    "id": "IOQniwxM5TiW"
   },
   "outputs": [
    {
     "data": {
      "text/plain": [
       "tensor([-0.7763,  0.9949,  0.4957])"
      ]
     },
     "execution_count": 14,
     "metadata": {},
     "output_type": "execute_result"
    }
   ],
   "source": [
    "x[:,0]"
   ]
  },
  {
   "cell_type": "code",
   "execution_count": 15,
   "metadata": {
    "colab": {},
    "colab_type": "code",
    "id": "1wNTom0KBEjZ"
   },
   "outputs": [
    {
     "data": {
      "text/plain": [
       "tensor([[-0.7763, -2.1231,  0.1880,  1.1897],\n",
       "        [ 0.4957, -0.2690, -0.8190,  1.1134]])"
      ]
     },
     "execution_count": 15,
     "metadata": {},
     "output_type": "execute_result"
    }
   ],
   "source": [
    "indices = torch.tensor([0, 2])\n",
    "torch.index_select(x, 0, indices)"
   ]
  },
  {
   "cell_type": "code",
   "execution_count": 16,
   "metadata": {
    "colab": {},
    "colab_type": "code",
    "id": "kozY9kQ4S8PX"
   },
   "outputs": [
    {
     "data": {
      "text/plain": [
       "tensor([[-0.7763,  0.1880],\n",
       "        [ 0.9949, -0.1519],\n",
       "        [ 0.4957, -0.8190]])"
      ]
     },
     "execution_count": 16,
     "metadata": {},
     "output_type": "execute_result"
    }
   ],
   "source": [
    "torch.index_select(x, 1, indices)"
   ]
  },
  {
   "cell_type": "markdown",
   "metadata": {
    "colab_type": "text",
    "id": "Z1wOe0VzBcHA"
   },
   "source": [
    "## torch.squeeze\n"
   ]
  },
  {
   "cell_type": "code",
   "execution_count": 17,
   "metadata": {
    "colab": {},
    "colab_type": "code",
    "id": "TqkGA33TBKfz"
   },
   "outputs": [
    {
     "data": {
      "text/plain": [
       "torch.Size([2, 1, 2, 1, 2])"
      ]
     },
     "execution_count": 17,
     "metadata": {},
     "output_type": "execute_result"
    }
   ],
   "source": [
    "#大きさが１の次元を削除したTensorを作成する\n",
    "x = torch.zeros(2, 1, 2, 1, 2)\n",
    "x.size()"
   ]
  },
  {
   "cell_type": "code",
   "execution_count": 18,
   "metadata": {
    "colab": {},
    "colab_type": "code",
    "id": "mnXayL1WBnwL"
   },
   "outputs": [
    {
     "data": {
      "text/plain": [
       "torch.Size([2, 2, 2])"
      ]
     },
     "execution_count": 18,
     "metadata": {},
     "output_type": "execute_result"
    }
   ],
   "source": [
    "y = torch.squeeze(x)\n",
    "y.size()"
   ]
  },
  {
   "cell_type": "code",
   "execution_count": 19,
   "metadata": {
    "colab": {},
    "colab_type": "code",
    "id": "_-yj8-EuBpE_"
   },
   "outputs": [
    {
     "data": {
      "text/plain": [
       "torch.Size([2, 1, 2, 1, 2])"
      ]
     },
     "execution_count": 19,
     "metadata": {},
     "output_type": "execute_result"
    }
   ],
   "source": [
    "y = torch.squeeze(x, 0)\n",
    "y.size()"
   ]
  },
  {
   "cell_type": "code",
   "execution_count": 20,
   "metadata": {
    "colab": {},
    "colab_type": "code",
    "id": "b6tQzKaQBqJP"
   },
   "outputs": [
    {
     "data": {
      "text/plain": [
       "torch.Size([2, 2, 1, 2])"
      ]
     },
     "execution_count": 20,
     "metadata": {},
     "output_type": "execute_result"
    }
   ],
   "source": [
    "y = torch.squeeze(x, 1)\n",
    "y.size()"
   ]
  },
  {
   "cell_type": "code",
   "execution_count": 21,
   "metadata": {
    "colab": {},
    "colab_type": "code",
    "id": "O9lbhKLDqk_1"
   },
   "outputs": [
    {
     "data": {
      "text/plain": [
       "torch.Size([2, 1, 2, 2])"
      ]
     },
     "execution_count": 21,
     "metadata": {},
     "output_type": "execute_result"
    }
   ],
   "source": [
    "y = torch.squeeze(x, 3)\n",
    "y.size()"
   ]
  },
  {
   "cell_type": "markdown",
   "metadata": {
    "colab_type": "text",
    "id": "hydKhPaXCNnW"
   },
   "source": [
    "## torch.t"
   ]
  },
  {
   "cell_type": "code",
   "execution_count": 22,
   "metadata": {
    "colab": {},
    "colab_type": "code",
    "id": "N6R6OBY5BqfQ"
   },
   "outputs": [
    {
     "data": {
      "text/plain": [
       "tensor([[1.0512, 0.8211, 0.4865],\n",
       "        [0.0487, 0.7302, 0.5427]])"
      ]
     },
     "execution_count": 22,
     "metadata": {},
     "output_type": "execute_result"
    }
   ],
   "source": [
    "#Tensorを転置する\n",
    "x = torch.randn(2, 3)\n",
    "x"
   ]
  },
  {
   "cell_type": "code",
   "execution_count": 23,
   "metadata": {
    "colab": {},
    "colab_type": "code",
    "id": "gICLI9DuCVhB"
   },
   "outputs": [
    {
     "data": {
      "text/plain": [
       "tensor([[1.0512, 0.0487],\n",
       "        [0.8211, 0.7302],\n",
       "        [0.4865, 0.5427]])"
      ]
     },
     "execution_count": 23,
     "metadata": {},
     "output_type": "execute_result"
    }
   ],
   "source": [
    "torch.t(x)"
   ]
  },
  {
   "cell_type": "markdown",
   "metadata": {
    "colab_type": "text",
    "id": "gZynLmQoCdVi"
   },
   "source": [
    "## torch.transpose\n"
   ]
  },
  {
   "cell_type": "code",
   "execution_count": 24,
   "metadata": {
    "colab": {},
    "colab_type": "code",
    "id": "_EHKXLC1CXMc"
   },
   "outputs": [
    {
     "data": {
      "text/plain": [
       "tensor([[-0.5909,  0.5229, -0.9337],\n",
       "        [ 0.9394,  1.7050, -0.8571]])"
      ]
     },
     "execution_count": 24,
     "metadata": {},
     "output_type": "execute_result"
    }
   ],
   "source": [
    "#Tensorの次元を入れ替える\n",
    "x = torch.randn(2, 3)\n",
    "x"
   ]
  },
  {
   "cell_type": "code",
   "execution_count": 25,
   "metadata": {
    "colab": {},
    "colab_type": "code",
    "id": "LzM4bU8LCwhj"
   },
   "outputs": [
    {
     "data": {
      "text/plain": [
       "tensor([[-0.5909,  0.9394],\n",
       "        [ 0.5229,  1.7050],\n",
       "        [-0.9337, -0.8571]])"
      ]
     },
     "execution_count": 25,
     "metadata": {},
     "output_type": "execute_result"
    }
   ],
   "source": [
    "torch.transpose(x, 0, 1)"
   ]
  },
  {
   "cell_type": "markdown",
   "metadata": {
    "colab_type": "text",
    "id": "ePjfRqE3C3DZ"
   },
   "source": [
    "## torch.unsqueeze\n"
   ]
  },
  {
   "cell_type": "code",
   "execution_count": 26,
   "metadata": {
    "colab": {},
    "colab_type": "code",
    "id": "SJn8cMI7DUWq"
   },
   "outputs": [
    {
     "data": {
      "text/plain": [
       "tensor([[1, 2, 3, 4]])"
      ]
     },
     "execution_count": 26,
     "metadata": {},
     "output_type": "execute_result"
    }
   ],
   "source": [
    "#指定された位置にサイズ1の次元を挿入する\n",
    "x = torch.tensor([1, 2, 3, 4])\n",
    "torch.unsqueeze(x, 0)"
   ]
  },
  {
   "cell_type": "code",
   "execution_count": 27,
   "metadata": {
    "colab": {},
    "colab_type": "code",
    "id": "DRVnc4RwEY1v"
   },
   "outputs": [
    {
     "data": {
      "text/plain": [
       "tensor([[1],\n",
       "        [2],\n",
       "        [3],\n",
       "        [4]])"
      ]
     },
     "execution_count": 27,
     "metadata": {},
     "output_type": "execute_result"
    }
   ],
   "source": [
    "torch.unsqueeze(x, 1)"
   ]
  },
  {
   "cell_type": "code",
   "execution_count": null,
   "metadata": {},
   "outputs": [],
   "source": []
  }
 ],
 "metadata": {
  "accelerator": "GPU",
  "colab": {
   "collapsed_sections": [
    "FEQiwDsIyJX3",
    "ljUhkmZEAz91",
    "Z1wOe0VzBcHA",
    "hydKhPaXCNnW",
    "gZynLmQoCdVi",
    "ePjfRqE3C3DZ"
   ],
   "name": "section1_2.ipynb",
   "provenance": [],
   "version": "0.3.2"
  },
  "kernelspec": {
   "display_name": "pytorch_handbook-cxE4JzpW",
   "language": "python",
   "name": "python3"
  },
  "language_info": {
   "codemirror_mode": {
    "name": "ipython",
    "version": 3
   },
   "file_extension": ".py",
   "mimetype": "text/x-python",
   "name": "python",
   "nbconvert_exporter": "python",
   "pygments_lexer": "ipython3",
   "version": "3.6.13"
  },
  "vscode": {
   "interpreter": {
    "hash": "1a1627ff8c3f0278be0285d4bfdc18dde91f8374edbf4a554c43de70be81795e"
   }
  }
 },
 "nbformat": 4,
 "nbformat_minor": 1
}
