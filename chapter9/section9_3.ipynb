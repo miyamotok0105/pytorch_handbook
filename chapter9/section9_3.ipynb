{
 "cells": [
  {
   "cell_type": "code",
   "execution_count": 1,
   "metadata": {
    "colab": {
     "base_uri": "https://localhost:8080/",
     "height": 702
    },
    "colab_type": "code",
    "executionInfo": {
     "elapsed": 67468,
     "status": "ok",
     "timestamp": 1540890090718,
     "user": {
      "displayName": "宮本圭一郎",
      "photoUrl": "https://lh5.googleusercontent.com/-5BLtx8oPSy8/AAAAAAAAAAI/AAAAAAAALtI/-tIwIsmAvCs/s64/photo.jpg",
      "userId": "00037817427736046144"
     },
     "user_tz": -540
    },
    "id": "0U5ooEh4wR55",
    "outputId": "c2585939-ca87-42fa-b251-c97e9f4c24e3"
   },
   "outputs": [],
   "source": [
    "# #colabを使う方はこちらを使用ください。\n",
    "# !pip install torch==1.5.0\n",
    "# !pip install torchvision==0.6.0\n",
    "# !pip install torchtext==0.3.1\n",
    "# !pip install numpy==1.21.6\n",
    "# !pip install matplotlib==3.2.2\n",
    "# !pip install Pillow==7.1.2\n",
    "# !pip install opencv-python==4.6.0"
   ]
  },
  {
   "cell_type": "markdown",
   "metadata": {},
   "source": [
    "# 第9章 torch.nnパッケージ"
   ]
  },
  {
   "cell_type": "markdown",
   "metadata": {
    "colab_type": "text",
    "id": "wRGWXucEzvfo"
   },
   "source": [
    "# 9.3 パラメータの初期値"
   ]
  },
  {
   "cell_type": "code",
   "execution_count": 2,
   "metadata": {
    "colab": {},
    "colab_type": "code",
    "id": "FsCpiZnGwfJt"
   },
   "outputs": [],
   "source": [
    "import torch \n",
    "import torchvision\n",
    "import torch.nn as nn\n",
    "import torch.optim as optim\n",
    "import torch.nn.functional as F\n",
    "import numpy as np\n",
    "import torchvision.transforms as transforms\n",
    "%matplotlib inline\n",
    "import matplotlib.pyplot as plt\n",
    "import numpy as np\n",
    "device = torch.device('cuda' if torch.cuda.is_available() else 'cpu')"
   ]
  },
  {
   "cell_type": "markdown",
   "metadata": {
    "colab_type": "text",
    "id": "uVTDDx7G2BYW"
   },
   "source": [
    "## torch.nninit.uniform"
   ]
  },
  {
   "cell_type": "code",
   "execution_count": 3,
   "metadata": {
    "colab": {
     "base_uri": "https://localhost:8080/",
     "height": 68
    },
    "colab_type": "code",
    "executionInfo": {
     "elapsed": 387,
     "status": "ok",
     "timestamp": 1535196558635,
     "user": {
      "displayName": "宮本圭一郎",
      "photoUrl": "//lh5.googleusercontent.com/-5BLtx8oPSy8/AAAAAAAAAAI/AAAAAAAALtI/-tIwIsmAvCs/s50-c-k-no/photo.jpg",
      "userId": "100227668169464343249"
     },
     "user_tz": -540
    },
    "id": "HfUeiP1w2B_j",
    "outputId": "2eeb1500-d61e-4732-bb45-502ee970e868"
   },
   "outputs": [
    {
     "data": {
      "text/plain": [
       "tensor([[0.6767, 0.6471, 0.9155, 0.0843, 0.2530],\n",
       "        [0.0124, 0.0403, 0.9713, 0.7677, 0.7444],\n",
       "        [0.0739, 0.4056, 0.0561, 0.4145, 0.0939]])"
      ]
     },
     "execution_count": 3,
     "metadata": {},
     "output_type": "execute_result"
    }
   ],
   "source": [
    "w = torch.empty(3, 5)\n",
    "nn.init.uniform_(w)"
   ]
  },
  {
   "cell_type": "markdown",
   "metadata": {
    "colab_type": "text",
    "id": "rcLzprKQ2MPq"
   },
   "source": [
    "## torch.nn.init.normal"
   ]
  },
  {
   "cell_type": "code",
   "execution_count": 4,
   "metadata": {
    "colab": {
     "base_uri": "https://localhost:8080/",
     "height": 68
    },
    "colab_type": "code",
    "executionInfo": {
     "elapsed": 371,
     "status": "ok",
     "timestamp": 1535196604144,
     "user": {
      "displayName": "宮本圭一郎",
      "photoUrl": "//lh5.googleusercontent.com/-5BLtx8oPSy8/AAAAAAAAAAI/AAAAAAAALtI/-tIwIsmAvCs/s50-c-k-no/photo.jpg",
      "userId": "100227668169464343249"
     },
     "user_tz": -540
    },
    "id": "SESLexJx2HNH",
    "outputId": "e5bce76d-ac42-44bf-e727-630a8d142a98"
   },
   "outputs": [
    {
     "data": {
      "text/plain": [
       "tensor([[-0.0099,  0.0719,  1.5106, -0.2540,  0.5408],\n",
       "        [-1.3753, -0.7779,  1.1082,  1.1179,  0.7643],\n",
       "        [-0.8206,  0.2930,  0.6857, -0.3989,  0.9966]])"
      ]
     },
     "execution_count": 4,
     "metadata": {},
     "output_type": "execute_result"
    }
   ],
   "source": [
    "w = torch.empty(3, 5)\n",
    "nn.init.normal_(w)"
   ]
  },
  {
   "cell_type": "markdown",
   "metadata": {
    "colab_type": "text",
    "id": "Q5wv3-422Yhe"
   },
   "source": [
    "## torch.nn.init.constant\n"
   ]
  },
  {
   "cell_type": "code",
   "execution_count": 5,
   "metadata": {
    "colab": {
     "base_uri": "https://localhost:8080/",
     "height": 68
    },
    "colab_type": "code",
    "executionInfo": {
     "elapsed": 392,
     "status": "ok",
     "timestamp": 1535196653377,
     "user": {
      "displayName": "宮本圭一郎",
      "photoUrl": "//lh5.googleusercontent.com/-5BLtx8oPSy8/AAAAAAAAAAI/AAAAAAAALtI/-tIwIsmAvCs/s50-c-k-no/photo.jpg",
      "userId": "100227668169464343249"
     },
     "user_tz": -540
    },
    "id": "OUhzqm9e2SUK",
    "outputId": "7bdd2634-c766-41e6-b160-87b85533ce64"
   },
   "outputs": [
    {
     "data": {
      "text/plain": [
       "tensor([[0.3000, 0.3000, 0.3000, 0.3000, 0.3000],\n",
       "        [0.3000, 0.3000, 0.3000, 0.3000, 0.3000],\n",
       "        [0.3000, 0.3000, 0.3000, 0.3000, 0.3000]])"
      ]
     },
     "execution_count": 5,
     "metadata": {},
     "output_type": "execute_result"
    }
   ],
   "source": [
    "w = torch.empty(3, 5)\n",
    "nn.init.constant_(w, 0.3)"
   ]
  },
  {
   "cell_type": "markdown",
   "metadata": {
    "colab_type": "text",
    "id": "J8i5Cruc2ixJ"
   },
   "source": [
    "## torch.nn.init.eye"
   ]
  },
  {
   "cell_type": "code",
   "execution_count": 6,
   "metadata": {
    "colab": {
     "base_uri": "https://localhost:8080/",
     "height": 68
    },
    "colab_type": "code",
    "executionInfo": {
     "elapsed": 387,
     "status": "ok",
     "timestamp": 1535196709557,
     "user": {
      "displayName": "宮本圭一郎",
      "photoUrl": "//lh5.googleusercontent.com/-5BLtx8oPSy8/AAAAAAAAAAI/AAAAAAAALtI/-tIwIsmAvCs/s50-c-k-no/photo.jpg",
      "userId": "100227668169464343249"
     },
     "user_tz": -540
    },
    "id": "qe0VBD042eVU",
    "outputId": "3985a210-0bdb-4836-b16e-d990638c5cc4"
   },
   "outputs": [
    {
     "data": {
      "text/plain": [
       "tensor([[1., 0., 0., 0., 0.],\n",
       "        [0., 1., 0., 0., 0.],\n",
       "        [0., 0., 1., 0., 0.]])"
      ]
     },
     "execution_count": 6,
     "metadata": {},
     "output_type": "execute_result"
    }
   ],
   "source": [
    "w = torch.empty(3, 5)\n",
    "nn.init.eye_(w)"
   ]
  },
  {
   "cell_type": "markdown",
   "metadata": {
    "colab_type": "text",
    "id": "fgpT8kM7z4o8"
   },
   "source": [
    "## torch.nn.init.calculate_gain"
   ]
  },
  {
   "cell_type": "code",
   "execution_count": 7,
   "metadata": {
    "colab": {
     "base_uri": "https://localhost:8080/",
     "height": 85
    },
    "colab_type": "code",
    "executionInfo": {
     "elapsed": 800,
     "status": "ok",
     "timestamp": 1535250741109,
     "user": {
      "displayName": "宮本圭一郎",
      "photoUrl": "//lh5.googleusercontent.com/-5BLtx8oPSy8/AAAAAAAAAAI/AAAAAAAALtI/-tIwIsmAvCs/s50-c-k-no/photo.jpg",
      "userId": "100227668169464343249"
     },
     "user_tz": -540
    },
    "id": "COpXQC_jCtH1",
    "outputId": "a040c8c3-895e-421d-9b0a-e681d581fa65"
   },
   "outputs": [
    {
     "name": "stdout",
     "output_type": "stream",
     "text": [
      "1\n",
      "1\n",
      "1.4142135623730951\n",
      "1.4141428569978354\n"
     ]
    }
   ],
   "source": [
    "gain = nn.init.calculate_gain('linear')\n",
    "print(gain)\n",
    "gain = nn.init.calculate_gain('conv2d')\n",
    "print(gain)\n",
    "gain = nn.init.calculate_gain('relu')\n",
    "print(gain)\n",
    "gain = nn.init.calculate_gain('leaky_relu')\n",
    "print(gain)"
   ]
  },
  {
   "cell_type": "markdown",
   "metadata": {
    "colab_type": "text",
    "id": "AFrrWeH62_ye"
   },
   "source": [
    "## torch.nn.init.xavier_uniform\n"
   ]
  },
  {
   "cell_type": "code",
   "execution_count": 8,
   "metadata": {
    "colab": {
     "base_uri": "https://localhost:8080/",
     "height": 68
    },
    "colab_type": "code",
    "executionInfo": {
     "elapsed": 355,
     "status": "ok",
     "timestamp": 1535196863428,
     "user": {
      "displayName": "宮本圭一郎",
      "photoUrl": "//lh5.googleusercontent.com/-5BLtx8oPSy8/AAAAAAAAAAI/AAAAAAAALtI/-tIwIsmAvCs/s50-c-k-no/photo.jpg",
      "userId": "100227668169464343249"
     },
     "user_tz": -540
    },
    "id": "R4H7Rg8L23D3",
    "outputId": "bcc1aca6-805a-4fda-adbc-6451aaf822ae"
   },
   "outputs": [
    {
     "data": {
      "text/plain": [
       "tensor([[-0.2261,  0.4217,  0.5210,  0.6253, -0.5442],\n",
       "        [ 0.0381,  0.4265,  0.1117,  0.9086, -0.3756],\n",
       "        [-0.4110,  1.1312,  0.0986, -0.8452,  0.1126]])"
      ]
     },
     "execution_count": 8,
     "metadata": {},
     "output_type": "execute_result"
    }
   ],
   "source": [
    "w = torch.empty(3, 5)\n",
    "nn.init.xavier_uniform_(w, gain=nn.init.calculate_gain('relu'))"
   ]
  },
  {
   "cell_type": "markdown",
   "metadata": {
    "colab_type": "text",
    "id": "pNNXJn3z3Vhi"
   },
   "source": [
    "## torch.nn.init.xavier_normal"
   ]
  },
  {
   "cell_type": "code",
   "execution_count": 9,
   "metadata": {
    "colab": {
     "base_uri": "https://localhost:8080/",
     "height": 68
    },
    "colab_type": "code",
    "executionInfo": {
     "elapsed": 343,
     "status": "ok",
     "timestamp": 1535196947781,
     "user": {
      "displayName": "宮本圭一郎",
      "photoUrl": "//lh5.googleusercontent.com/-5BLtx8oPSy8/AAAAAAAAAAI/AAAAAAAALtI/-tIwIsmAvCs/s50-c-k-no/photo.jpg",
      "userId": "100227668169464343249"
     },
     "user_tz": -540
    },
    "id": "ckY_3l_u3f0A",
    "outputId": "fac466a5-a018-49df-b3ed-35a3902ba66b"
   },
   "outputs": [
    {
     "data": {
      "text/plain": [
       "tensor([[-0.0011,  0.2531, -0.2949,  0.0446,  0.2384],\n",
       "        [-0.2814, -0.1979, -0.4694, -0.0206, -0.6279],\n",
       "        [ 0.4138, -0.9194,  0.1177,  1.0447, -0.0902]])"
      ]
     },
     "execution_count": 9,
     "metadata": {},
     "output_type": "execute_result"
    }
   ],
   "source": [
    "w = torch.empty(3, 5)\n",
    "nn.init.xavier_normal_(w)"
   ]
  },
  {
   "cell_type": "markdown",
   "metadata": {
    "colab_type": "text",
    "id": "pR9ZvAXf3tiU"
   },
   "source": [
    "## torch.nn.init.kaiming_uniform"
   ]
  },
  {
   "cell_type": "code",
   "execution_count": 10,
   "metadata": {
    "colab": {
     "base_uri": "https://localhost:8080/",
     "height": 68
    },
    "colab_type": "code",
    "executionInfo": {
     "elapsed": 364,
     "status": "ok",
     "timestamp": 1535197017721,
     "user": {
      "displayName": "宮本圭一郎",
      "photoUrl": "//lh5.googleusercontent.com/-5BLtx8oPSy8/AAAAAAAAAAI/AAAAAAAALtI/-tIwIsmAvCs/s50-c-k-no/photo.jpg",
      "userId": "100227668169464343249"
     },
     "user_tz": -540
    },
    "id": "YTkjwMlz3mNz",
    "outputId": "64381e59-0017-4cf0-fa0e-92af4e511b9d"
   },
   "outputs": [
    {
     "data": {
      "text/plain": [
       "tensor([[ 1.0593,  0.5936,  0.5774, -0.4797, -1.0354],\n",
       "        [ 0.6444, -0.1923, -0.9627, -0.4421,  0.3072],\n",
       "        [-0.1423,  0.2084, -0.9058,  0.3933, -0.1830]])"
      ]
     },
     "execution_count": 10,
     "metadata": {},
     "output_type": "execute_result"
    }
   ],
   "source": [
    "w = torch.empty(3, 5)\n",
    "nn.init.kaiming_uniform_(w, mode='fan_in', nonlinearity='relu')"
   ]
  },
  {
   "cell_type": "markdown",
   "metadata": {
    "colab_type": "text",
    "id": "T-bTLgNv37Ig"
   },
   "source": [
    "## torch.nn.init.kaiming_normal"
   ]
  },
  {
   "cell_type": "code",
   "execution_count": 11,
   "metadata": {
    "colab": {
     "base_uri": "https://localhost:8080/",
     "height": 68
    },
    "colab_type": "code",
    "executionInfo": {
     "elapsed": 356,
     "status": "ok",
     "timestamp": 1535197071591,
     "user": {
      "displayName": "宮本圭一郎",
      "photoUrl": "//lh5.googleusercontent.com/-5BLtx8oPSy8/AAAAAAAAAAI/AAAAAAAALtI/-tIwIsmAvCs/s50-c-k-no/photo.jpg",
      "userId": "100227668169464343249"
     },
     "user_tz": -540
    },
    "id": "QaIAsnJu33SI",
    "outputId": "09da07c8-8073-4e28-ccbe-1126f3ea29e6"
   },
   "outputs": [
    {
     "data": {
      "text/plain": [
       "tensor([[ 0.1833,  1.1950,  0.2702,  0.2567,  1.3099],\n",
       "        [-0.8622, -0.4217,  0.8484, -1.6390,  1.0361],\n",
       "        [ 0.5231, -1.2187, -0.0258, -1.9205, -0.4279]])"
      ]
     },
     "execution_count": 11,
     "metadata": {},
     "output_type": "execute_result"
    }
   ],
   "source": [
    "w = torch.empty(3, 5)\n",
    "nn.init.kaiming_normal_(w, mode='fan_out', nonlinearity='relu')"
   ]
  },
  {
   "cell_type": "code",
   "execution_count": null,
   "metadata": {
    "colab": {},
    "colab_type": "code",
    "id": "t3iI3U1I4jeQ"
   },
   "outputs": [],
   "source": []
  }
 ],
 "metadata": {
  "accelerator": "GPU",
  "colab": {
   "collapsed_sections": [],
   "name": "section2_3.ipynb",
   "provenance": [],
   "version": "0.3.2"
  },
  "kernelspec": {
   "display_name": "pytorch_handbook-cxE4JzpW",
   "language": "python",
   "name": "python3"
  },
  "language_info": {
   "codemirror_mode": {
    "name": "ipython",
    "version": 3
   },
   "file_extension": ".py",
   "mimetype": "text/x-python",
   "name": "python",
   "nbconvert_exporter": "python",
   "pygments_lexer": "ipython3",
   "version": "3.6.13"
  },
  "vscode": {
   "interpreter": {
    "hash": "1a1627ff8c3f0278be0285d4bfdc18dde91f8374edbf4a554c43de70be81795e"
   }
  }
 },
 "nbformat": 4,
 "nbformat_minor": 1
}
