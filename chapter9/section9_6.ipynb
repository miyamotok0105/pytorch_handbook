{
 "cells": [
  {
   "cell_type": "code",
   "execution_count": 1,
   "metadata": {
    "colab": {
     "base_uri": "https://localhost:8080/",
     "height": 315
    },
    "colab_type": "code",
    "executionInfo": {
     "elapsed": 13218,
     "status": "ok",
     "timestamp": 1540890868505,
     "user": {
      "displayName": "宮本圭一郎",
      "photoUrl": "https://lh5.googleusercontent.com/-5BLtx8oPSy8/AAAAAAAAAAI/AAAAAAAALtI/-tIwIsmAvCs/s64/photo.jpg",
      "userId": "00037817427736046144"
     },
     "user_tz": -540
    },
    "id": "0dQutTXVUp-k",
    "outputId": "9d94a14e-95ea-47f6-bd57-8ec190b37865"
   },
   "outputs": [],
   "source": [
    "# #colabを使う方はこちらを使用ください。\n",
    "# !pip install torch==1.5.0\n",
    "# !pip install torchvision==0.6.0\n",
    "# !pip install torchtext==0.3.1\n",
    "# !pip install numpy==1.21.6\n",
    "# !pip install matplotlib==3.2.2\n",
    "# !pip install Pillow==7.1.2\n",
    "# !pip install opencv-python==4.6.0"
   ]
  },
  {
   "cell_type": "code",
   "execution_count": 2,
   "metadata": {
    "colab": {},
    "colab_type": "code",
    "id": "hzyWSFwA2TF-"
   },
   "outputs": [],
   "source": [
    "import torch \n",
    "import torchvision\n",
    "import torch.nn as nn\n",
    "import torch.optim as optim\n",
    "import torch.nn.functional as F\n",
    "import numpy as np\n",
    "import torchvision.transforms as transforms\n",
    "%matplotlib inline\n",
    "import matplotlib.pyplot as plt\n",
    "import numpy as np\n",
    "device = torch.device('cuda' if torch.cuda.is_available() else 'cpu')"
   ]
  },
  {
   "cell_type": "markdown",
   "metadata": {},
   "source": [
    "# 第9章 torch.nnパッケージ"
   ]
  },
  {
   "cell_type": "markdown",
   "metadata": {
    "colab_type": "text",
    "id": "RZ1nioUQwbmI"
   },
   "source": [
    "# 9.6 リカレントレイヤー"
   ]
  },
  {
   "cell_type": "markdown",
   "metadata": {
    "colab_type": "text",
    "id": "JmR_e4VRweS0"
   },
   "source": [
    "## RNN"
   ]
  },
  {
   "cell_type": "code",
   "execution_count": 3,
   "metadata": {
    "colab": {
     "base_uri": "https://localhost:8080/",
     "height": 52
    },
    "colab_type": "code",
    "executionInfo": {
     "elapsed": 642,
     "status": "ok",
     "timestamp": 1540892328346,
     "user": {
      "displayName": "宮本圭一郎",
      "photoUrl": "https://lh5.googleusercontent.com/-5BLtx8oPSy8/AAAAAAAAAAI/AAAAAAAALtI/-tIwIsmAvCs/s64/photo.jpg",
      "userId": "00037817427736046144"
     },
     "user_tz": -540
    },
    "id": "X6sT3tYzwH14",
    "outputId": "9ad3ff38-ee7c-4ee5-d142-903664835fa6"
   },
   "outputs": [
    {
     "name": "stdout",
     "output_type": "stream",
     "text": [
      "torch.Size([5, 3, 20])\n",
      "torch.Size([2, 3, 20])\n"
     ]
    }
   ],
   "source": [
    "rnn = nn.RNN(input_size=10,hidden_size= 20, num_layers=2)\n",
    "input = torch.randn(5, 3, 10)\n",
    "h0 = torch.randn(2, 3, 20)\n",
    "output, hn = rnn(input, h0)\n",
    "print(output.size())\n",
    "print(hn.size())"
   ]
  },
  {
   "cell_type": "code",
   "execution_count": 4,
   "metadata": {
    "colab": {
     "base_uri": "https://localhost:8080/",
     "height": 52
    },
    "colab_type": "code",
    "executionInfo": {
     "elapsed": 529,
     "status": "ok",
     "timestamp": 1540892329450,
     "user": {
      "displayName": "宮本圭一郎",
      "photoUrl": "https://lh5.googleusercontent.com/-5BLtx8oPSy8/AAAAAAAAAAI/AAAAAAAALtI/-tIwIsmAvCs/s64/photo.jpg",
      "userId": "00037817427736046144"
     },
     "user_tz": -540
    },
    "id": "Hdh2JB_ndekI",
    "outputId": "d597edb6-de28-4542-c70c-bcb6c92d5a67"
   },
   "outputs": [
    {
     "name": "stdout",
     "output_type": "stream",
     "text": [
      "torch.Size([5, 3, 20])\n",
      "torch.Size([3, 3, 20])\n"
     ]
    }
   ],
   "source": [
    "#３層\n",
    "rnn = nn.RNN(input_size=10,hidden_size= 20, num_layers=3)\n",
    "input = torch.randn(5, 3, 10)\n",
    "h0 = torch.randn(3, 3, 20)\n",
    "output, hn = rnn(input, h0)\n",
    "print(output.size())\n",
    "print(hn.size())"
   ]
  },
  {
   "cell_type": "code",
   "execution_count": 5,
   "metadata": {
    "colab": {
     "base_uri": "https://localhost:8080/",
     "height": 52
    },
    "colab_type": "code",
    "executionInfo": {
     "elapsed": 495,
     "status": "ok",
     "timestamp": 1540892330155,
     "user": {
      "displayName": "宮本圭一郎",
      "photoUrl": "https://lh5.googleusercontent.com/-5BLtx8oPSy8/AAAAAAAAAAI/AAAAAAAALtI/-tIwIsmAvCs/s64/photo.jpg",
      "userId": "00037817427736046144"
     },
     "user_tz": -540
    },
    "id": "l4R_kscTQDEr",
    "outputId": "a0541909-f157-41d4-f54f-daccf647cf71"
   },
   "outputs": [
    {
     "name": "stdout",
     "output_type": "stream",
     "text": [
      "torch.Size([5, 3, 20])\n",
      "torch.Size([2, 3, 20])\n"
     ]
    }
   ],
   "source": [
    "#tanh\n",
    "rnn = nn.RNN(input_size=10,hidden_size= 20, num_layers=2, nonlinearity='tanh')\n",
    "input = torch.randn(5, 3, 10)\n",
    "h0 = torch.randn(2, 3, 20)\n",
    "output, hn = rnn(input, h0)\n",
    "print(output.size())\n",
    "print(hn.size())"
   ]
  },
  {
   "cell_type": "code",
   "execution_count": 6,
   "metadata": {
    "colab": {
     "base_uri": "https://localhost:8080/",
     "height": 52
    },
    "colab_type": "code",
    "executionInfo": {
     "elapsed": 515,
     "status": "ok",
     "timestamp": 1540892330766,
     "user": {
      "displayName": "宮本圭一郎",
      "photoUrl": "https://lh5.googleusercontent.com/-5BLtx8oPSy8/AAAAAAAAAAI/AAAAAAAALtI/-tIwIsmAvCs/s64/photo.jpg",
      "userId": "00037817427736046144"
     },
     "user_tz": -540
    },
    "id": "l1KUX9F7augA",
    "outputId": "076e3503-f16c-4bc9-f369-5e5bb4d4885a"
   },
   "outputs": [
    {
     "name": "stdout",
     "output_type": "stream",
     "text": [
      "torch.Size([5, 3, 20])\n",
      "torch.Size([2, 3, 20])\n"
     ]
    }
   ],
   "source": [
    "#relu\n",
    "rnn = nn.RNN(input_size=10,hidden_size= 20, num_layers=2, nonlinearity='relu')\n",
    "input = torch.randn(5, 3, 10)\n",
    "h0 = torch.randn(2, 3, 20)\n",
    "output, hn = rnn(input, h0)\n",
    "print(output.size())\n",
    "print(hn.size())"
   ]
  },
  {
   "cell_type": "code",
   "execution_count": 7,
   "metadata": {
    "colab": {
     "base_uri": "https://localhost:8080/",
     "height": 52
    },
    "colab_type": "code",
    "executionInfo": {
     "elapsed": 529,
     "status": "ok",
     "timestamp": 1540892331384,
     "user": {
      "displayName": "宮本圭一郎",
      "photoUrl": "https://lh5.googleusercontent.com/-5BLtx8oPSy8/AAAAAAAAAAI/AAAAAAAALtI/-tIwIsmAvCs/s64/photo.jpg",
      "userId": "00037817427736046144"
     },
     "user_tz": -540
    },
    "id": "Pqr_Epbjamf_",
    "outputId": "89e40459-71ef-42cb-c6e7-b4f45624bcb9"
   },
   "outputs": [
    {
     "name": "stdout",
     "output_type": "stream",
     "text": [
      "torch.Size([5, 3, 20])\n",
      "torch.Size([2, 3, 20])\n"
     ]
    }
   ],
   "source": [
    "#バイアスを使わない\n",
    "rnn = nn.RNN(input_size=10,hidden_size= 20, num_layers=2, bias=False)\n",
    "input = torch.randn(5, 3, 10)\n",
    "h0 = torch.randn(2, 3, 20)\n",
    "output, hn = rnn(input, h0)\n",
    "print(output.size())\n",
    "print(hn.size())"
   ]
  },
  {
   "cell_type": "code",
   "execution_count": 8,
   "metadata": {
    "colab": {
     "base_uri": "https://localhost:8080/",
     "height": 52
    },
    "colab_type": "code",
    "executionInfo": {
     "elapsed": 458,
     "status": "ok",
     "timestamp": 1540892550738,
     "user": {
      "displayName": "宮本圭一郎",
      "photoUrl": "https://lh5.googleusercontent.com/-5BLtx8oPSy8/AAAAAAAAAAI/AAAAAAAALtI/-tIwIsmAvCs/s64/photo.jpg",
      "userId": "00037817427736046144"
     },
     "user_tz": -540
    },
    "id": "ZZqg8ZhqP_JN",
    "outputId": "72bc3db6-38fc-4070-8025-41cf73c6e127"
   },
   "outputs": [
    {
     "name": "stdout",
     "output_type": "stream",
     "text": [
      "torch.Size([5, 3, 20])\n",
      "torch.Size([2, 3, 20])\n"
     ]
    }
   ],
   "source": [
    "#dropout 0.5\n",
    "rnn = nn.RNN(input_size=10,hidden_size= 20, num_layers=2, dropout=0.5)\n",
    "input = torch.randn(5, 3, 10)\n",
    "h0 = torch.randn(2, 3, 20)\n",
    "output, hn = rnn(input, h0)\n",
    "print(output.size())\n",
    "print(hn.size())"
   ]
  },
  {
   "cell_type": "code",
   "execution_count": 9,
   "metadata": {
    "colab": {
     "base_uri": "https://localhost:8080/",
     "height": 52
    },
    "colab_type": "code",
    "executionInfo": {
     "elapsed": 435,
     "status": "ok",
     "timestamp": 1540892551840,
     "user": {
      "displayName": "宮本圭一郎",
      "photoUrl": "https://lh5.googleusercontent.com/-5BLtx8oPSy8/AAAAAAAAAAI/AAAAAAAALtI/-tIwIsmAvCs/s64/photo.jpg",
      "userId": "00037817427736046144"
     },
     "user_tz": -540
    },
    "id": "bWvgrq5XeI7M",
    "outputId": "574efe58-9102-4e36-fff6-f95f2c8d3eec"
   },
   "outputs": [
    {
     "name": "stdout",
     "output_type": "stream",
     "text": [
      "torch.Size([5, 3, 40])\n",
      "torch.Size([4, 3, 20])\n"
     ]
    }
   ],
   "source": [
    "#双方向RNN\n",
    "rnn = nn.RNN(input_size=10,hidden_size= 20, num_layers=2, bidirectional=True)\n",
    "input = torch.randn(5, 3, 10)\n",
    "h0 = torch.randn(4, 3, 20)\n",
    "output, hn = rnn(input, h0)\n",
    "print(output.size())\n",
    "print(hn.size())"
   ]
  },
  {
   "cell_type": "markdown",
   "metadata": {
    "colab_type": "text",
    "id": "EfH74MfNyOa2"
   },
   "source": [
    "## LSTM\n",
    "\n"
   ]
  },
  {
   "cell_type": "code",
   "execution_count": 10,
   "metadata": {
    "colab": {},
    "colab_type": "code",
    "id": "a5zf0y7ZwHx9"
   },
   "outputs": [],
   "source": [
    "rnn = nn.LSTM(input_size=10, hidden_size=20, num_layers=2)\n",
    "input = torch.randn(5, 3, 10)\n",
    "h0 = torch.randn(2, 3, 20)\n",
    "c0 = torch.randn(2, 3, 20)\n",
    "output, hn = rnn(input, (h0, c0))"
   ]
  },
  {
   "cell_type": "code",
   "execution_count": 11,
   "metadata": {
    "colab": {},
    "colab_type": "code",
    "id": "bq_rp34ShpH-"
   },
   "outputs": [],
   "source": [
    "#バイアスを使わない\n",
    "rnn = nn.LSTM(input_size=10, hidden_size=20, num_layers=2, bias=False)\n",
    "input = torch.randn(5, 3, 10)\n",
    "h0 = torch.randn(2, 3, 20)\n",
    "c0 = torch.randn(2, 3, 20)\n",
    "output, hn = rnn(input, (h0, c0))"
   ]
  },
  {
   "cell_type": "markdown",
   "metadata": {
    "colab_type": "text",
    "id": "abvKRQN4ydIx"
   },
   "source": [
    "## RNNCell\n",
    "\n"
   ]
  },
  {
   "cell_type": "code",
   "execution_count": 12,
   "metadata": {
    "colab": {},
    "colab_type": "code",
    "id": "dkFLFTByyV4n"
   },
   "outputs": [],
   "source": [
    "rnn = nn.RNNCell(10, 20)\n",
    "input = torch.randn(6, 3, 10)\n",
    "hx = torch.randn(3, 20)\n",
    "output = []\n",
    "for i in range(6):\n",
    "        hx = rnn(input[i], hx)\n",
    "        output.append(hx)"
   ]
  },
  {
   "cell_type": "markdown",
   "metadata": {
    "colab_type": "text",
    "id": "5uH6Asc8zUR1"
   },
   "source": [
    "## LSTMCell\n",
    "\n"
   ]
  },
  {
   "cell_type": "code",
   "execution_count": 13,
   "metadata": {
    "colab": {},
    "colab_type": "code",
    "id": "QcCGOlGayWCx"
   },
   "outputs": [],
   "source": [
    "rnn = nn.LSTMCell(10, 20)\n",
    "input = torch.randn(6, 3, 10)\n",
    "hx = torch.randn(3, 20)\n",
    "cx = torch.randn(3, 20)\n",
    "output = []\n",
    "for i in range(6):\n",
    "        hx, cx = rnn(input[i], (hx, cx))\n",
    "        output.append(hx)"
   ]
  },
  {
   "cell_type": "code",
   "execution_count": null,
   "metadata": {},
   "outputs": [],
   "source": []
  }
 ],
 "metadata": {
  "accelerator": "GPU",
  "colab": {
   "collapsed_sections": [],
   "name": "section2_6.ipynb",
   "provenance": [],
   "version": "0.3.2"
  },
  "kernelspec": {
   "display_name": "pytorch_handbook-cxE4JzpW",
   "language": "python",
   "name": "python3"
  },
  "language_info": {
   "codemirror_mode": {
    "name": "ipython",
    "version": 3
   },
   "file_extension": ".py",
   "mimetype": "text/x-python",
   "name": "python",
   "nbconvert_exporter": "python",
   "pygments_lexer": "ipython3",
   "version": "3.6.13"
  },
  "vscode": {
   "interpreter": {
    "hash": "1a1627ff8c3f0278be0285d4bfdc18dde91f8374edbf4a554c43de70be81795e"
   }
  }
 },
 "nbformat": 4,
 "nbformat_minor": 1
}
