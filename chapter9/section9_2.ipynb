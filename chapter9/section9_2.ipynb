{
 "cells": [
  {
   "cell_type": "code",
   "execution_count": 1,
   "metadata": {
    "colab": {
     "base_uri": "https://localhost:8080/",
     "height": 702
    },
    "colab_type": "code",
    "executionInfo": {
     "elapsed": 67468,
     "status": "ok",
     "timestamp": 1540890090718,
     "user": {
      "displayName": "宮本圭一郎",
      "photoUrl": "https://lh5.googleusercontent.com/-5BLtx8oPSy8/AAAAAAAAAAI/AAAAAAAALtI/-tIwIsmAvCs/s64/photo.jpg",
      "userId": "00037817427736046144"
     },
     "user_tz": -540
    },
    "id": "0U5ooEh4wR55",
    "outputId": "c2585939-ca87-42fa-b251-c97e9f4c24e3"
   },
   "outputs": [],
   "source": [
    "# #colabを使う方はこちらを使用ください。\n",
    "# !pip install torch==1.5.0\n",
    "# !pip install torchvision==0.6.0\n",
    "# !pip install torchtext==0.3.1\n",
    "# !pip install numpy==1.21.6\n",
    "# !pip install matplotlib==3.2.2\n",
    "# !pip install Pillow==7.1.2\n",
    "# !pip install opencv-python==4.6.0"
   ]
  },
  {
   "cell_type": "markdown",
   "metadata": {},
   "source": [
    "# 第9章 torch.nnパッケージ"
   ]
  },
  {
   "cell_type": "markdown",
   "metadata": {
    "colab_type": "text",
    "id": "9q3fQ5LrLpp8"
   },
   "source": [
    "# 9.2 関数群(torch.nn.functional)"
   ]
  },
  {
   "cell_type": "code",
   "execution_count": 2,
   "metadata": {
    "colab": {},
    "colab_type": "code",
    "id": "FsCpiZnGwfJt"
   },
   "outputs": [],
   "source": [
    "import torch \n",
    "import torchvision\n",
    "import torch.nn as nn\n",
    "import torch.optim as optim\n",
    "import torch.nn.functional as F\n",
    "import numpy as np\n",
    "import torchvision.transforms as transforms\n",
    "%matplotlib inline\n",
    "import matplotlib.pyplot as plt\n",
    "import numpy as np\n",
    "device = torch.device('cuda' if torch.cuda.is_available() else 'cpu')"
   ]
  },
  {
   "cell_type": "markdown",
   "metadata": {
    "colab_type": "text",
    "id": "2cpkm5Bvv0x-"
   },
   "source": [
    "## torch.nn.functional.conv2d\n",
    "\n"
   ]
  },
  {
   "cell_type": "code",
   "execution_count": 3,
   "metadata": {
    "colab": {
     "base_uri": "https://localhost:8080/",
     "height": 35
    },
    "colab_type": "code",
    "executionInfo": {
     "elapsed": 466,
     "status": "ok",
     "timestamp": 1540890155063,
     "user": {
      "displayName": "宮本圭一郎",
      "photoUrl": "https://lh5.googleusercontent.com/-5BLtx8oPSy8/AAAAAAAAAAI/AAAAAAAALtI/-tIwIsmAvCs/s64/photo.jpg",
      "userId": "00037817427736046144"
     },
     "user_tz": -540
    },
    "id": "TywwoeEqv9l1",
    "outputId": "98becc3c-3273-4181-b7c0-8ea5c79a98ed"
   },
   "outputs": [
    {
     "data": {
      "text/plain": [
       "torch.Size([1, 8, 5, 5])"
      ]
     },
     "execution_count": 3,
     "metadata": {},
     "output_type": "execute_result"
    }
   ],
   "source": [
    "#conv2d関数を使用する\n",
    "# 正方形のカーネルと等しいストライド\n",
    "filters = torch.randn(8,4,3,3)\n",
    "inputs = torch.randn(1,4,5,5)\n",
    "F.conv2d(inputs, filters, padding=1).size()"
   ]
  },
  {
   "cell_type": "markdown",
   "metadata": {
    "colab_type": "text",
    "id": "CxJ-xLtLL36E"
   },
   "source": [
    "## torch.nn.functional.avg_pool2d"
   ]
  },
  {
   "cell_type": "code",
   "execution_count": 4,
   "metadata": {
    "colab": {
     "base_uri": "https://localhost:8080/",
     "height": 35
    },
    "colab_type": "code",
    "executionInfo": {
     "elapsed": 488,
     "status": "ok",
     "timestamp": 1540890221188,
     "user": {
      "displayName": "宮本圭一郎",
      "photoUrl": "https://lh5.googleusercontent.com/-5BLtx8oPSy8/AAAAAAAAAAI/AAAAAAAALtI/-tIwIsmAvCs/s64/photo.jpg",
      "userId": "00037817427736046144"
     },
     "user_tz": -540
    },
    "id": "-qjV8kPcwqDq",
    "outputId": "db5d9db2-7ac2-4e40-9079-f642b1271cfa"
   },
   "outputs": [
    {
     "data": {
      "text/plain": [
       "tensor([[[1.5000, 3.5000, 5.5000]]])"
      ]
     },
     "execution_count": 4,
     "metadata": {},
     "output_type": "execute_result"
    }
   ],
   "source": [
    "#avg_pool2d関数を使用する\n",
    "input = torch.tensor([[[1,2,3,4,5,6], [1,2,3,4,5,6]]], dtype=torch.float)\n",
    "F.avg_pool2d(input, kernel_size=(2,2), stride=2)"
   ]
  },
  {
   "cell_type": "code",
   "execution_count": null,
   "metadata": {},
   "outputs": [],
   "source": []
  }
 ],
 "metadata": {
  "accelerator": "GPU",
  "colab": {
   "collapsed_sections": [],
   "name": "section2_2.ipynb",
   "provenance": [],
   "version": "0.3.2"
  },
  "kernelspec": {
   "display_name": "pytorch_handbook-cxE4JzpW",
   "language": "python",
   "name": "python3"
  },
  "language_info": {
   "codemirror_mode": {
    "name": "ipython",
    "version": 3
   },
   "file_extension": ".py",
   "mimetype": "text/x-python",
   "name": "python",
   "nbconvert_exporter": "python",
   "pygments_lexer": "ipython3",
   "version": "3.6.13 (default, Feb 12 2023, 23:20:22) \n[GCC 7.5.0]"
  },
  "vscode": {
   "interpreter": {
    "hash": "1a1627ff8c3f0278be0285d4bfdc18dde91f8374edbf4a554c43de70be81795e"
   }
  }
 },
 "nbformat": 4,
 "nbformat_minor": 1
}
