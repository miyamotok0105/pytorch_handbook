{
 "cells": [
  {
   "cell_type": "code",
   "execution_count": null,
   "metadata": {
    "colab": {},
    "colab_type": "code",
    "id": "0dQutTXVUp-k"
   },
   "outputs": [],
   "source": [
    "# #colabを使う方はこちらを使用ください。\n",
    "# !pip install torch==1.5.0\n",
    "# !pip install torchvision==0.6.0\n",
    "# !pip install torchtext==0.3.1\n",
    "# !pip install numpy==1.21.6\n",
    "# !pip install matplotlib==3.2.2\n",
    "# !pip install Pillow==7.1.2\n",
    "# !pip install opencv-python==4.6.0"
   ]
  },
  {
   "cell_type": "markdown",
   "metadata": {
    "colab_type": "text",
    "id": "5gFsJE4H2xSC"
   },
   "source": [
    "# 第9章 torch.nnパッケージ"
   ]
  },
  {
   "cell_type": "markdown",
   "metadata": {
    "colab_type": "text",
    "id": "AErBHlSJ_OJK"
   },
   "source": [
    "# 9.1 畳み込みレイヤー\n"
   ]
  },
  {
   "cell_type": "code",
   "execution_count": 3,
   "metadata": {
    "colab": {},
    "colab_type": "code",
    "id": "hzyWSFwA2TF-"
   },
   "outputs": [],
   "source": [
    "import torch \n",
    "import torchvision\n",
    "import torch.nn as nn\n",
    "import numpy as np\n",
    "import torchvision.transforms as transforms\n",
    "%matplotlib inline\n",
    "import matplotlib.pyplot as plt\n",
    "import numpy as np\n",
    "device = torch.device('cuda' if torch.cuda.is_available() else 'cpu')"
   ]
  },
  {
   "cell_type": "markdown",
   "metadata": {
    "colab_type": "text",
    "id": "woC9j8Mh_RFy"
   },
   "source": [
    "## nn.Conv1d, nn.Conv2d, nn.Conv3d\n"
   ]
  },
  {
   "cell_type": "code",
   "execution_count": 4,
   "metadata": {
    "colab": {},
    "colab_type": "code",
    "id": "KKTsZCFp27hH"
   },
   "outputs": [],
   "source": [
    "m = nn.Conv1d(16, 33, 3, stride=2)\n",
    "input = torch.randn(20, 16, 50)\n",
    "output = m(input)"
   ]
  },
  {
   "cell_type": "code",
   "execution_count": 5,
   "metadata": {
    "colab": {},
    "colab_type": "code",
    "id": "Cc1R3BRl27am"
   },
   "outputs": [],
   "source": [
    "# 正方形のカーネル、縦横ストライドが同じ\n",
    "m = nn.Conv2d(16, 33, kernel_size=3, stride=2)\n",
    "# 非正方形のカーネルと不均等なストライドとパディング\n",
    "m = nn.Conv2d(16, 33, kernel_size=(3, 5), stride=(2, 1), padding=(4, 2))\n",
    "# 非正方形のカーネルと不均等なストライドとパディングとdilation\n",
    "m = nn.Conv2d(16, 33, kernel_size=(3, 5), stride=(2, 1), padding=(4, 2), dilation=(3, 1))\n",
    "input = torch.randn(20, 16, 50, 100)\n",
    "output = m(input)"
   ]
  },
  {
   "cell_type": "code",
   "execution_count": 6,
   "metadata": {
    "colab": {},
    "colab_type": "code",
    "id": "JLohYBsN27WI"
   },
   "outputs": [],
   "source": [
    "# 正方形のカーネル、縦横ストライドが同じ\n",
    "m = nn.Conv3d(16, 33, 3, stride=2)\n",
    "# 非正方形のカーネルと不均等なストライドとパディング\n",
    "m = nn.Conv3d(16, 33, (3, 5, 2), stride=(2, 1, 1), padding=(4, 2, 0))\n",
    "input = torch.randn(20, 16, 10, 50, 100)\n",
    "output = m(input)"
   ]
  },
  {
   "cell_type": "markdown",
   "metadata": {
    "colab_type": "text",
    "id": "2Rc5Ompjmau3"
   },
   "source": [
    "# nn.ConvTranspose2d\n",
    "\n"
   ]
  },
  {
   "cell_type": "code",
   "execution_count": 7,
   "metadata": {
    "colab": {},
    "colab_type": "code",
    "id": "pJW9-4IX27Qc"
   },
   "outputs": [
    {
     "name": "stdout",
     "output_type": "stream",
     "text": [
      "torch.Size([20, 33, 11, 13])\n",
      "torch.Size([20, 33, 3, 6])\n"
     ]
    }
   ],
   "source": [
    "input = torch.randn(20, 16, 5, 6)\n",
    "# 正方形のカーネル、縦横ストライドが同じ\n",
    "m = nn.ConvTranspose2d(16, 33, kernel_size=3, stride=2)\n",
    "print(m(input).shape)\n",
    "# 非正方形のカーネルと不均等なストライドとパディング\n",
    "m = nn.ConvTranspose2d(16, 33, kernel_size=(3, 5), stride=(2, 1), padding=(4, 2))\n",
    "print(m(input).shape)"
   ]
  },
  {
   "cell_type": "code",
   "execution_count": 8,
   "metadata": {
    "colab": {},
    "colab_type": "code",
    "id": "JknIChM1GrX_"
   },
   "outputs": [
    {
     "name": "stdout",
     "output_type": "stream",
     "text": [
      "torch.Size([20, 33, 93, 100])\n"
     ]
    }
   ],
   "source": [
    "input = torch.randn(20, 16, 50, 100)\n",
    "output = m(input)\n",
    "print(output.shape)"
   ]
  },
  {
   "cell_type": "code",
   "execution_count": 9,
   "metadata": {
    "colab": {},
    "colab_type": "code",
    "id": "EFxyItgaE5UG"
   },
   "outputs": [
    {
     "name": "stdout",
     "output_type": "stream",
     "text": [
      "downsample：torch.Size([1, 16, 6, 6])\n",
      "upsample：torch.Size([1, 16, 12, 12])\n"
     ]
    }
   ],
   "source": [
    "# 正確な出力サイズを引数として指定することもできます\n",
    "input = torch.randn(1, 16, 12, 12)\n",
    "downsample = nn.Conv2d(16, 16, 3, stride=2, padding=1)\n",
    "upsample = nn.ConvTranspose2d(16, 16, 3, stride=2, padding=1)\n",
    "h = downsample(input)\n",
    "print('downsample: '+str(h.size()))\n",
    "#アップサンプルの出力サイズに入力のサイズを入れた例\n",
    "output = upsample(h, output_size=input.size())\n",
    "print('upsample: '+str(output.size()))"
   ]
  },
  {
   "cell_type": "markdown",
   "metadata": {
    "colab_type": "text",
    "id": "f7ARiP3OnNPK"
   },
   "source": [
    "## nn.MaxPool1d, nn.MaxPool2d, nn.MaxPool3d\n",
    "\n"
   ]
  },
  {
   "cell_type": "code",
   "execution_count": 10,
   "metadata": {
    "colab": {},
    "colab_type": "code",
    "id": "L0qciaYCnD37"
   },
   "outputs": [
    {
     "name": "stdout",
     "output_type": "stream",
     "text": [
      "torch.Size([20, 16, 50])\n",
      "torch.Size([20, 16, 24])\n"
     ]
    }
   ],
   "source": [
    "# プーリングのサイズとストライド：size=3, stride=2\n",
    "m = nn.MaxPool1d(3, stride=2)\n",
    "input = torch.randn(20, 16, 50)\n",
    "output = m(input)\n",
    "\n",
    "print(input.shape)\n",
    "print(output.shape)"
   ]
  },
  {
   "cell_type": "code",
   "execution_count": 11,
   "metadata": {
    "colab": {},
    "colab_type": "code",
    "id": "IklYHF0aK3CE"
   },
   "outputs": [
    {
     "data": {
      "text/plain": [
       "tensor([[[3., 4., 5., 6., 7.]]])"
      ]
     },
     "execution_count": 11,
     "metadata": {},
     "output_type": "execute_result"
    }
   ],
   "source": [
    "# プーリングのサイズとストライド：size=3, stride=1\n",
    "m = nn.MaxPool1d(3, stride=1)\n",
    "m(torch.tensor([[[1.,2,3,4,5,6,7]]]))"
   ]
  },
  {
   "cell_type": "code",
   "execution_count": 12,
   "metadata": {
    "colab": {},
    "colab_type": "code",
    "id": "WJXwldtmKkVJ"
   },
   "outputs": [
    {
     "data": {
      "text/plain": [
       "tensor([[[3., 5., 7.]]])"
      ]
     },
     "execution_count": 12,
     "metadata": {},
     "output_type": "execute_result"
    }
   ],
   "source": [
    "# プーリングのサイズとストライド：size=3, stride=2\n",
    "m = nn.MaxPool1d(3, stride=2)\n",
    "m(torch.tensor([[[1.,2,3,4,5,6,7]]]))"
   ]
  },
  {
   "cell_type": "code",
   "execution_count": 13,
   "metadata": {
    "colab": {},
    "colab_type": "code",
    "id": "rgKqIIhFnD9s"
   },
   "outputs": [
    {
     "name": "stdout",
     "output_type": "stream",
     "text": [
      "torch.Size([20, 16, 50, 32])\n"
     ]
    }
   ],
   "source": [
    "# サイズの正方形のカーネル= 3、ストライド= 2\n",
    "m = nn.MaxPool2d(3, stride=2)\n",
    "# 非正方形のカーネル\n",
    "m = nn.MaxPool2d((3, 2), stride=(2, 1))\n",
    "input = torch.randn(20, 16, 50, 32)\n",
    "output = m(input)\n",
    "print(input.shape)"
   ]
  },
  {
   "cell_type": "code",
   "execution_count": 14,
   "metadata": {
    "colab": {},
    "colab_type": "code",
    "id": "PHD0n7QnnEKI"
   },
   "outputs": [
    {
     "name": "stdout",
     "output_type": "stream",
     "text": [
      "torch.Size([20, 16, 50, 44, 31])\n"
     ]
    }
   ],
   "source": [
    "# サイズの正方形のカーネル= 3、ストライド= 2\n",
    "m = nn.MaxPool3d(3, stride=2)\n",
    "# 非正方形のカーネル\n",
    "m = nn.MaxPool3d((3, 2, 2), stride=(2, 1, 2))\n",
    "input = torch.randn(20, 16, 50,44, 31)\n",
    "output = m(input)\n",
    "print(input.shape)"
   ]
  },
  {
   "cell_type": "markdown",
   "metadata": {
    "colab_type": "text",
    "id": "3nUwgwY8n3Li"
   },
   "source": [
    "## nn.AvgPool1d, nn.AvgPool2d, nn.AvgPool3d"
   ]
  },
  {
   "cell_type": "code",
   "execution_count": null,
   "metadata": {
    "colab": {},
    "colab_type": "code",
    "id": "icA8NYRUnEOV"
   },
   "outputs": [],
   "source": [
    "# プーリングのサイズとストライド: size=3, stride=2\n",
    "m = nn.AvgPool1d(3, stride=2)\n",
    "output = m(torch.tensor([[[1.,2,3,4,5,6,7]]]))"
   ]
  },
  {
   "cell_type": "code",
   "execution_count": null,
   "metadata": {
    "colab": {},
    "colab_type": "code",
    "id": "xsgzoo1bnEHy"
   },
   "outputs": [],
   "source": [
    "# プーリングのサイズとストライド: size=3, stride=2\n",
    "m = nn.AvgPool2d(3, stride=2)\n",
    "# 正方形でないプーリング\n",
    "m = nn.AvgPool2d((3, 2), stride=(2, 1))\n",
    "input = torch.randn(20, 16, 50, 32)\n",
    "output = m(input)"
   ]
  },
  {
   "cell_type": "code",
   "execution_count": null,
   "metadata": {
    "colab": {},
    "colab_type": "code",
    "id": "I_Vd6JsmoPiy"
   },
   "outputs": [],
   "source": [
    "# プーリングのサイズとストライド: size=3, stride=2\n",
    "m = nn.AvgPool3d(3, stride=2)\n",
    "# 正方形でないプーリング\n",
    "m = nn.AvgPool3d((3, 2, 2), stride=(2, 1, 2))\n",
    "input = torch.randn(20, 16, 50,44, 31)\n",
    "output = m(input)"
   ]
  },
  {
   "cell_type": "markdown",
   "metadata": {
    "colab_type": "text",
    "id": "chrF1-x5ocvl"
   },
   "source": [
    "## nn.AdaptiveMaxPool1d, nn.AdaptiveMaxPool2d, nn.AdaptiveMaxPool3d"
   ]
  },
  {
   "cell_type": "code",
   "execution_count": 15,
   "metadata": {
    "colab": {},
    "colab_type": "code",
    "id": "K7F_-kiWoPmu"
   },
   "outputs": [
    {
     "name": "stdout",
     "output_type": "stream",
     "text": [
      "torch.Size([1, 64, 5])\n"
     ]
    }
   ],
   "source": [
    "#出力形状を指定してマックスプーリングを行う\n",
    "# 目標出力サイズ5\n",
    "m = nn.AdaptiveMaxPool1d(5)\n",
    "input = torch.randn(1, 64, 8)\n",
    "output = m(input)\n",
    "\n",
    "print(output.shape)"
   ]
  },
  {
   "cell_type": "code",
   "execution_count": 16,
   "metadata": {
    "colab": {},
    "colab_type": "code",
    "id": "9M9umTH0oPgm"
   },
   "outputs": [
    {
     "name": "stdout",
     "output_type": "stream",
     "text": [
      "torch.Size([1, 64, 5, 7])\n",
      "torch.Size([1, 64, 7, 7])\n"
     ]
    }
   ],
   "source": [
    "# 目標出力サイズは5x7\n",
    "m = nn.AdaptiveMaxPool2d((5,7))\n",
    "input = torch.randn(1, 64, 8, 9)\n",
    "output = m(input)\n",
    "\n",
    "print(output.size())\n",
    "\n",
    "# 目標出力サイズは7×7（平方）\n",
    "m = nn.AdaptiveMaxPool2d(7)\n",
    "input = torch.randn(1, 64, 10, 9)\n",
    "output = m(input)\n",
    "\n",
    "print(output.size())\n",
    "\n"
   ]
  },
  {
   "cell_type": "code",
   "execution_count": 17,
   "metadata": {
    "colab": {},
    "colab_type": "code",
    "id": "X2RtF0yeoPeE"
   },
   "outputs": [],
   "source": [
    "# 目標出力サイズは 5x7x9\n",
    "m = nn.AdaptiveMaxPool3d((5,7,9))\n",
    "input = torch.randn(1, 64, 8, 9, 10)\n",
    "output = m(input)\n",
    "# 目標出力サイズは7x7x7 (立方体)\n",
    "m = nn.AdaptiveMaxPool3d(7)\n",
    "input = torch.randn(1, 64, 10, 9, 8)\n",
    "output = m(input)"
   ]
  },
  {
   "cell_type": "markdown",
   "metadata": {
    "colab_type": "text",
    "id": "ov3nILldqnWw"
   },
   "source": [
    "## nn.AdaptiveAvgPool1d, nn.AdaptiveAvgPool2d, nn.AdaptiveAvgPool3d"
   ]
  },
  {
   "cell_type": "code",
   "execution_count": 18,
   "metadata": {
    "colab": {},
    "colab_type": "code",
    "id": "EumU24VdoPay"
   },
   "outputs": [],
   "source": [
    "#出力形状を指定してアベレージプーリングを行う\n",
    "# 目標出力サイズ5\n",
    "m = nn.AdaptiveAvgPool1d(5)\n",
    "input = torch.randn(1, 64, 8)\n",
    "output = m(input)"
   ]
  },
  {
   "cell_type": "code",
   "execution_count": 21,
   "metadata": {
    "colab": {},
    "colab_type": "code",
    "id": "BwrS2g3nqwQF"
   },
   "outputs": [],
   "source": [
    "# ターゲット出力サイズは5x7\n",
    "m = nn.AdaptiveAvgPool2d((5,7))\n",
    "input = torch.randn(1, 64, 8, 9)\n",
    "output = m(input)\n",
    "# 目標出力サイズは7×7（平方）\n",
    "m = nn.AdaptiveAvgPool2d(7)\n",
    "input = torch.randn(1, 64, 10, 9)\n",
    "output = m(input)"
   ]
  },
  {
   "cell_type": "code",
   "execution_count": 22,
   "metadata": {
    "colab": {},
    "colab_type": "code",
    "id": "Vf3Hb8B1qweU"
   },
   "outputs": [],
   "source": [
    "# ターゲット出力サイズは5x7x9\n",
    "m = nn.AdaptiveAvgPool3d((5,7,9))\n",
    "input = torch.randn(1, 64, 8, 9, 10)\n",
    "output = m(input)\n",
    "# ターゲット出力サイズは7x7x7（立方体）\n",
    "m = nn.AdaptiveAvgPool3d(7)\n",
    "input = torch.randn(1, 64, 10, 9, 8)\n",
    "output = m(input)"
   ]
  },
  {
   "cell_type": "markdown",
   "metadata": {
    "colab_type": "text",
    "id": "qBkMkE05rHwi"
   },
   "source": [
    "## nn.ReflectionPad1d, nn.ReflectionPad2d\n"
   ]
  },
  {
   "cell_type": "code",
   "execution_count": 31,
   "metadata": {
    "colab": {},
    "colab_type": "code",
    "id": "TA0JN31WqwcR"
   },
   "outputs": [
    {
     "data": {
      "text/plain": [
       "tensor([[[0., 1., 2., 3.],\n",
       "         [4., 5., 6., 7.]]])"
      ]
     },
     "execution_count": 31,
     "metadata": {},
     "output_type": "execute_result"
    }
   ],
   "source": [
    "#境界で反転するようにパディングする\n",
    "m = nn.ReflectionPad1d(2)\n",
    "#floatに変換が必要な場合は変換\n",
    "#input = torch.arange(8).reshape(1, 2, 4)\n",
    "input = torch.arange(8).reshape(1, 2, 4).float()\n",
    "input"
   ]
  },
  {
   "cell_type": "code",
   "execution_count": 32,
   "metadata": {
    "colab": {},
    "colab_type": "code",
    "id": "XrDdmpXKu1WV"
   },
   "outputs": [
    {
     "data": {
      "text/plain": [
       "tensor([[[2., 1., 0., 1., 2., 3., 2., 1.],\n",
       "         [6., 5., 4., 5., 6., 7., 6., 5.]]])"
      ]
     },
     "execution_count": 32,
     "metadata": {},
     "output_type": "execute_result"
    }
   ],
   "source": [
    "m(input)"
   ]
  },
  {
   "cell_type": "code",
   "execution_count": 33,
   "metadata": {
    "colab": {},
    "colab_type": "code",
    "id": "A8Sb9zbqvYb-"
   },
   "outputs": [
    {
     "data": {
      "text/plain": [
       "tensor([[[3., 2., 1., 0., 1., 2., 3., 2.],\n",
       "         [7., 6., 5., 4., 5., 6., 7., 6.]]])"
      ]
     },
     "execution_count": 33,
     "metadata": {},
     "output_type": "execute_result"
    }
   ],
   "source": [
    "# 異なるパディングを使用\n",
    "m = nn.ReflectionPad1d((3, 1))\n",
    "m(input)"
   ]
  },
  {
   "cell_type": "code",
   "execution_count": 34,
   "metadata": {
    "colab": {},
    "colab_type": "code",
    "id": "b9qXgBzHqwZJ"
   },
   "outputs": [
    {
     "data": {
      "text/plain": [
       "tensor([[[0, 1, 2, 3, 4],\n",
       "         [5, 6, 7, 8, 9]]])"
      ]
     },
     "execution_count": 34,
     "metadata": {},
     "output_type": "execute_result"
    }
   ],
   "source": [
    "m = nn.ReflectionPad1d(2)\n",
    "input = torch.arange(10).reshape(1, 2, 5)\n",
    "input"
   ]
  },
  {
   "cell_type": "code",
   "execution_count": 36,
   "metadata": {
    "colab": {},
    "colab_type": "code",
    "id": "_0u_1kwtv2vI"
   },
   "outputs": [
    {
     "data": {
      "text/plain": [
       "tensor([[[[0., 1., 2.],\n",
       "          [3., 4., 5.],\n",
       "          [6., 7., 8.]]]])"
      ]
     },
     "execution_count": 36,
     "metadata": {},
     "output_type": "execute_result"
    }
   ],
   "source": [
    "m = nn.ReflectionPad2d(2)\n",
    "#floatに変換が必要な場合は変換\n",
    "#input = torch.arange(9).reshape(1, 1, 3, 3)\n",
    "input = torch.arange(9).reshape(1, 1, 3, 3).float()\n",
    "input"
   ]
  },
  {
   "cell_type": "code",
   "execution_count": 37,
   "metadata": {
    "colab": {},
    "colab_type": "code",
    "id": "uSAq3-DBv2sS"
   },
   "outputs": [
    {
     "data": {
      "text/plain": [
       "tensor([[[[8., 7., 6., 7., 8., 7., 6.],\n",
       "          [5., 4., 3., 4., 5., 4., 3.],\n",
       "          [2., 1., 0., 1., 2., 1., 0.],\n",
       "          [5., 4., 3., 4., 5., 4., 3.],\n",
       "          [8., 7., 6., 7., 8., 7., 6.],\n",
       "          [5., 4., 3., 4., 5., 4., 3.],\n",
       "          [2., 1., 0., 1., 2., 1., 0.]]]])"
      ]
     },
     "execution_count": 37,
     "metadata": {},
     "output_type": "execute_result"
    }
   ],
   "source": [
    "m(input)"
   ]
  },
  {
   "cell_type": "code",
   "execution_count": 38,
   "metadata": {
    "colab": {},
    "colab_type": "code",
    "id": "Oscd5xzoqwWy"
   },
   "outputs": [
    {
     "data": {
      "text/plain": [
       "tensor([[[[7., 6., 7., 8., 7.],\n",
       "          [4., 3., 4., 5., 4.],\n",
       "          [1., 0., 1., 2., 1.],\n",
       "          [4., 3., 4., 5., 4.],\n",
       "          [7., 6., 7., 8., 7.]]]])"
      ]
     },
     "execution_count": 38,
     "metadata": {},
     "output_type": "execute_result"
    }
   ],
   "source": [
    "# 異なるパディングを使用\n",
    "m = nn.ReflectionPad2d((1, 1, 2, 0))\n",
    "m(input)"
   ]
  },
  {
   "cell_type": "code",
   "execution_count": null,
   "metadata": {
    "colab": {},
    "colab_type": "code",
    "id": "IWUsoz9vqwUP"
   },
   "outputs": [],
   "source": []
  },
  {
   "cell_type": "markdown",
   "metadata": {
    "colab_type": "text",
    "id": "QNo9XLTYwPJt"
   },
   "source": [
    "## nn.ReplicationPad1d, nn.ReplicationPad2d\n"
   ]
  },
  {
   "cell_type": "code",
   "execution_count": 45,
   "metadata": {
    "colab": {},
    "colab_type": "code",
    "id": "lj-tRXCJnEFe"
   },
   "outputs": [
    {
     "data": {
      "text/plain": [
       "tensor([[[0., 1., 2., 3.],\n",
       "         [4., 5., 6., 7.]]])"
      ]
     },
     "execution_count": 45,
     "metadata": {},
     "output_type": "execute_result"
    }
   ],
   "source": [
    "#境界を複製するようにパディングする\n",
    "m = nn.ReplicationPad1d(2)\n",
    "#floatに変換が必要な場合は変換\n",
    "# input = torch.arange(8).reshape(1, 2, 4)\n",
    "input = torch.arange(8).reshape(1, 2, 4).float()\n",
    "input"
   ]
  },
  {
   "cell_type": "code",
   "execution_count": 46,
   "metadata": {
    "colab": {},
    "colab_type": "code",
    "id": "W-pkiIsKnED2"
   },
   "outputs": [
    {
     "data": {
      "text/plain": [
       "tensor([[[0., 0., 0., 1., 2., 3., 3., 3.],\n",
       "         [4., 4., 4., 5., 6., 7., 7., 7.]]])"
      ]
     },
     "execution_count": 46,
     "metadata": {},
     "output_type": "execute_result"
    }
   ],
   "source": [
    "m(input)"
   ]
  },
  {
   "cell_type": "code",
   "execution_count": 47,
   "metadata": {
    "colab": {},
    "colab_type": "code",
    "id": "VOMdNZItnEBh"
   },
   "outputs": [
    {
     "data": {
      "text/plain": [
       "tensor([[[0., 0., 0., 0., 1., 2., 3., 3.],\n",
       "         [4., 4., 4., 4., 5., 6., 7., 7.]]])"
      ]
     },
     "execution_count": 47,
     "metadata": {},
     "output_type": "execute_result"
    }
   ],
   "source": [
    "# 異なるパディングを使用\n",
    "m = nn.ReplicationPad1d((3, 1))\n",
    "m(input)"
   ]
  },
  {
   "cell_type": "code",
   "execution_count": 48,
   "metadata": {
    "colab": {},
    "colab_type": "code",
    "id": "9cPQyS0Mwu6D"
   },
   "outputs": [
    {
     "data": {
      "text/plain": [
       "tensor([[[[0., 1., 2.],\n",
       "          [3., 4., 5.],\n",
       "          [6., 7., 8.]]]])"
      ]
     },
     "execution_count": 48,
     "metadata": {},
     "output_type": "execute_result"
    }
   ],
   "source": [
    "m = nn.ReplicationPad2d(2)\n",
    "#floatに変換が必要な場合は変換\n",
    "# input = torch.arange(9).reshape(1, 1, 3, 3)\n",
    "input = torch.arange(9).reshape(1, 1, 3, 3).float()\n",
    "input"
   ]
  },
  {
   "cell_type": "code",
   "execution_count": 49,
   "metadata": {
    "colab": {},
    "colab_type": "code",
    "id": "T292I47uwu3E"
   },
   "outputs": [
    {
     "data": {
      "text/plain": [
       "tensor([[[[0., 0., 0., 1., 2., 2., 2.],\n",
       "          [0., 0., 0., 1., 2., 2., 2.],\n",
       "          [0., 0., 0., 1., 2., 2., 2.],\n",
       "          [3., 3., 3., 4., 5., 5., 5.],\n",
       "          [6., 6., 6., 7., 8., 8., 8.],\n",
       "          [6., 6., 6., 7., 8., 8., 8.],\n",
       "          [6., 6., 6., 7., 8., 8., 8.]]]])"
      ]
     },
     "execution_count": 49,
     "metadata": {},
     "output_type": "execute_result"
    }
   ],
   "source": [
    "m(input)"
   ]
  },
  {
   "cell_type": "code",
   "execution_count": 50,
   "metadata": {
    "colab": {},
    "colab_type": "code",
    "id": "WqljLk4Xwu0m"
   },
   "outputs": [
    {
     "data": {
      "text/plain": [
       "tensor([[[[0., 0., 1., 2., 2.],\n",
       "          [0., 0., 1., 2., 2.],\n",
       "          [0., 0., 1., 2., 2.],\n",
       "          [3., 3., 4., 5., 5.],\n",
       "          [6., 6., 7., 8., 8.]]]])"
      ]
     },
     "execution_count": 50,
     "metadata": {},
     "output_type": "execute_result"
    }
   ],
   "source": [
    "# 異なるパディングを使用\n",
    "m = nn.ReplicationPad2d((1, 1, 2, 0))\n",
    "m(input)"
   ]
  },
  {
   "cell_type": "markdown",
   "metadata": {
    "colab_type": "text",
    "id": "NupZMtpLxxv3"
   },
   "source": [
    "## nn.ZeroPad2d\n"
   ]
  },
  {
   "cell_type": "code",
   "execution_count": 51,
   "metadata": {
    "colab": {},
    "colab_type": "code",
    "id": "nLNPlWePwuxo"
   },
   "outputs": [
    {
     "data": {
      "text/plain": [
       "tensor([[[[ 0.7430,  0.3785, -0.3358],\n",
       "          [-1.3134,  0.3718,  0.0413],\n",
       "          [-1.3721,  0.5007,  0.7519]]]])"
      ]
     },
     "execution_count": 51,
     "metadata": {},
     "output_type": "execute_result"
    }
   ],
   "source": [
    "#境界をゼロでパディングする\n",
    "#1のパディングが全ての境界に入る。\n",
    "m = nn.ZeroPad2d(1)\n",
    "input = torch.randn(1, 1, 3, 3)\n",
    "input"
   ]
  },
  {
   "cell_type": "code",
   "execution_count": 52,
   "metadata": {
    "colab": {},
    "colab_type": "code",
    "id": "cL7-74DIxuDa"
   },
   "outputs": [
    {
     "data": {
      "text/plain": [
       "tensor([[[[ 0.0000,  0.0000,  0.0000,  0.0000,  0.0000],\n",
       "          [ 0.0000,  0.7430,  0.3785, -0.3358,  0.0000],\n",
       "          [ 0.0000, -1.3134,  0.3718,  0.0413,  0.0000],\n",
       "          [ 0.0000, -1.3721,  0.5007,  0.7519,  0.0000],\n",
       "          [ 0.0000,  0.0000,  0.0000,  0.0000,  0.0000]]]])"
      ]
     },
     "execution_count": 52,
     "metadata": {},
     "output_type": "execute_result"
    }
   ],
   "source": [
    "m(input)"
   ]
  },
  {
   "cell_type": "code",
   "execution_count": 53,
   "metadata": {
    "colab": {},
    "colab_type": "code",
    "id": "p9o0YIPbxuAY"
   },
   "outputs": [
    {
     "data": {
      "text/plain": [
       "tensor([[[[ 0.0000,  0.0000,  0.0000,  0.0000,  0.0000],\n",
       "          [ 0.0000,  0.0000,  0.0000,  0.0000,  0.0000],\n",
       "          [ 0.0000,  0.7430,  0.3785, -0.3358,  0.0000],\n",
       "          [ 0.0000, -1.3134,  0.3718,  0.0413,  0.0000],\n",
       "          [ 0.0000, -1.3721,  0.5007,  0.7519,  0.0000]]]])"
      ]
     },
     "execution_count": 53,
     "metadata": {},
     "output_type": "execute_result"
    }
   ],
   "source": [
    "#異なるパディングを境界に適応する。\n",
    "m = nn.ZeroPad2d((1, 1, 2, 0))\n",
    "m(input)"
   ]
  },
  {
   "cell_type": "code",
   "execution_count": null,
   "metadata": {},
   "outputs": [],
   "source": []
  },
  {
   "cell_type": "code",
   "execution_count": null,
   "metadata": {},
   "outputs": [],
   "source": []
  }
 ],
 "metadata": {
  "accelerator": "GPU",
  "colab": {
   "collapsed_sections": [],
   "name": "section2_1.ipynb",
   "provenance": [],
   "version": "0.3.2"
  },
  "kernelspec": {
   "display_name": "pytorch_handbook-cxE4JzpW",
   "language": "python",
   "name": "python3"
  },
  "language_info": {
   "codemirror_mode": {
    "name": "ipython",
    "version": 3
   },
   "file_extension": ".py",
   "mimetype": "text/x-python",
   "name": "python",
   "nbconvert_exporter": "python",
   "pygments_lexer": "ipython3",
   "version": "3.6.13 (default, Feb 12 2023, 23:20:22) \n[GCC 7.5.0]"
  },
  "vscode": {
   "interpreter": {
    "hash": "1a1627ff8c3f0278be0285d4bfdc18dde91f8374edbf4a554c43de70be81795e"
   }
  }
 },
 "nbformat": 4,
 "nbformat_minor": 1
}
