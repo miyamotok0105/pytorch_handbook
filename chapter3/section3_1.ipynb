{
  "cells": [
    {
      "cell_type": "code",
      "execution_count": 1,
      "metadata": {
        "colab": {
          "base_uri": "https://localhost:8080/",
          "height": 802
        },
        "colab_type": "code",
        "id": "YNNzI3Nei5_R",
        "outputId": "cd143631-5678-427d-aa78-4e20fc3fe5df"
      },
      "outputs": [],
      "source": [
        "# #colabを使う方はこちらを使用ください。\n",
        "# !pip install torch==1.5.0\n",
        "# !pip install torchvision==0.6.0\n",
        "# !pip install torchtext==0.3.1\n",
        "# !pip install numpy==1.21.6\n",
        "# !pip install matplotlib==3.2.2\n",
        "# !pip install Pillow==7.1.2\n",
        "# !pip install opencv-python==4.6.0"
      ]
    },
    {
      "cell_type": "code",
      "execution_count": null,
      "metadata": {
        "colab": {},
        "colab_type": "code",
        "id": "_6qBFEEYYwy8"
      },
      "outputs": [],
      "source": [
        "import torch\n",
        "import torchvision\n",
        "import torch.nn as nn\n",
        "import torch.optim as optim\n",
        "import torch.nn.functional as F\n",
        "import torchvision.transforms as transforms\n",
        "%matplotlib inline\n",
        "import numpy as np\n",
        "from matplotlib import pyplot as plt"
      ]
    },
    {
      "cell_type": "markdown",
      "metadata": {
        "colab_type": "text",
        "id": "2jl3gAMtKwVZ"
      },
      "source": [
        "# CIFAR-10をMLPで画像分類\n",
        "\n",
        "## データの読み込み"
      ]
    },
    {
      "cell_type": "code",
      "execution_count": null,
      "metadata": {
        "colab": {
          "base_uri": "https://localhost:8080/",
          "height": 71
        },
        "colab_type": "code",
        "id": "iKImy2BUFhsV",
        "outputId": "9dd34714-f544-4773-9a89-c6fd3cb5eba7"
      },
      "outputs": [
        {
          "name": "stdout",
          "output_type": "stream",
          "text": [
            "Downloading https://www.cs.toronto.edu/~kriz/cifar-10-python.tar.gz to ./data/cifar-10-python.tar.gz\n",
            "Files already downloaded and verified\n"
          ]
        }
      ],
      "source": [
        "train_dataset = torchvision.datasets.CIFAR10(root='./data/',\n",
        "                                             train=True, \n",
        "                                             transform=transforms.ToTensor(),\n",
        "                                             download=True)\n",
        "test_dataset = torchvision.datasets.CIFAR10(root='./data/',\n",
        "                                            train=False, \n",
        "                                            transform=transforms.ToTensor(),\n",
        "                                            download=True)"
      ]
    },
    {
      "cell_type": "code",
      "execution_count": null,
      "metadata": {
        "colab": {
          "base_uri": "https://localhost:8080/",
          "height": 51
        },
        "colab_type": "code",
        "id": "6dxJ19E3Fs90",
        "outputId": "c4839860-bbda-48c8-e869-84c94bf745fe"
      },
      "outputs": [
        {
          "name": "stdout",
          "output_type": "stream",
          "text": [
            "torch.Size([3, 32, 32])\n",
            "6\n"
          ]
        }
      ],
      "source": [
        "image, label = train_dataset[0]\n",
        "print (image.size())\n",
        "print (label)"
      ]
    },
    {
      "cell_type": "code",
      "execution_count": null,
      "metadata": {
        "colab": {},
        "colab_type": "code",
        "id": "eDKemNkqFuud"
      },
      "outputs": [],
      "source": [
        "train_loader = torch.utils.data.DataLoader(dataset=train_dataset,\n",
        "                                           batch_size=64, \n",
        "                                           shuffle=True,\n",
        "                                           num_workers=2)\n",
        "\n",
        "test_loader = torch.utils.data.DataLoader(dataset=test_dataset,\n",
        "                                          batch_size=64, \n",
        "                                          shuffle=False,\n",
        "                                          num_workers=2)"
      ]
    },
    {
      "cell_type": "code",
      "execution_count": null,
      "metadata": {
        "colab": {
          "base_uri": "https://localhost:8080/",
          "height": 68
        },
        "colab_type": "code",
        "id": "4xApKVWIfXqr",
        "outputId": "1f6765b5-91cc-479e-a805-f647ff0e1bbf"
      },
      "outputs": [
        {
          "name": "stdout",
          "output_type": "stream",
          "text": [
            "torch.Size([64, 3, 32, 32])\n",
            "torch.Size([3, 32, 32])\n",
            "torch.Size([64])\n"
          ]
        }
      ],
      "source": [
        "for images, labels in train_loader:\n",
        "    print(images.size())\n",
        "    print(images[0].size())\n",
        "    print(labels.size())\n",
        "    # ここに訓練用のコードを書く\n",
        "    break"
      ]
    },
    {
      "cell_type": "markdown",
      "metadata": {
        "colab_type": "text",
        "id": "oIFbrVZ54fND"
      },
      "source": [
        "## ネットワークを定義"
      ]
    },
    {
      "cell_type": "code",
      "execution_count": null,
      "metadata": {
        "colab": {},
        "colab_type": "code",
        "id": "N6BK4YCPWxaN"
      },
      "outputs": [],
      "source": [
        "num_classes = 10\n",
        "\n",
        "class MLPNet (nn.Module):\n",
        "    def __init__(self):\n",
        "        super(MLPNet, self).__init__()\n",
        "        self.fc1 = nn.Linear(32 * 32 * 3, 600)\n",
        "        self.fc2 = nn.Linear(600, 600)\n",
        "        self.fc3 = nn.Linear(600, num_classes)\n",
        "        self.dropout1 = nn.Dropout2d(0.2)\n",
        "        self.dropout2 = nn.Dropout2d(0.2)\n",
        "        \n",
        "    def forward(self, x):\n",
        "        x = F.relu(self.fc1(x))\n",
        "        x = self.dropout1(x)\n",
        "        x = F.relu(self.fc2(x))\n",
        "        x = self.dropout2(x)\n",
        "        return F.relu(self.fc3(x))\n",
        "\n",
        "device = 'cuda' if torch.cuda.is_available() else 'cpu'\n",
        "net = MLPNet().to(device)"
      ]
    },
    {
      "cell_type": "markdown",
      "metadata": {
        "colab_type": "text",
        "id": "5q70A7ay4ksM"
      },
      "source": [
        "## 損失関数と最適化関数"
      ]
    },
    {
      "cell_type": "code",
      "execution_count": null,
      "metadata": {
        "colab": {},
        "colab_type": "code",
        "id": "Z8CZzhwHFw3U"
      },
      "outputs": [],
      "source": [
        "criterion = nn.CrossEntropyLoss()\n",
        "optimizer = optim.SGD(net.parameters(), lr=0.01, momentum=0.9, weight_decay=5e-4)"
      ]
    },
    {
      "cell_type": "markdown",
      "metadata": {
        "colab_type": "text",
        "id": "8lbMYq0D4may"
      },
      "source": [
        "## 訓練"
      ]
    },
    {
      "cell_type": "code",
      "execution_count": null,
      "metadata": {
        "colab": {
          "base_uri": "https://localhost:8080/",
          "height": 867
        },
        "colab_type": "code",
        "id": "lg6XX3VQOOTX",
        "outputId": "c0bfd11b-95f3-46cb-cf6e-1302e02b68e8"
      },
      "outputs": [
        {
          "name": "stdout",
          "output_type": "stream",
          "text": [
            "Epoch [1/50], Loss: 0.0309, val_loss: 0.0288, val_acc: 0.3256\n",
            "Epoch [2/50], Loss: 0.0275, val_loss: 0.0262, val_acc: 0.4034\n",
            "Epoch [3/50], Loss: 0.0264, val_loss: 0.0260, val_acc: 0.4078\n",
            "Epoch [4/50], Loss: 0.0257, val_loss: 0.0250, val_acc: 0.4275\n",
            "Epoch [5/50], Loss: 0.0252, val_loss: 0.0246, val_acc: 0.4397\n",
            "Epoch [6/50], Loss: 0.0247, val_loss: 0.0233, val_acc: 0.4729\n",
            "Epoch [7/50], Loss: 0.0243, val_loss: 0.0236, val_acc: 0.4710\n",
            "Epoch [8/50], Loss: 0.0239, val_loss: 0.0235, val_acc: 0.4559\n",
            "Epoch [9/50], Loss: 0.0236, val_loss: 0.0228, val_acc: 0.4787\n",
            "Epoch [10/50], Loss: 0.0233, val_loss: 0.0227, val_acc: 0.4803\n",
            "Epoch [11/50], Loss: 0.0231, val_loss: 0.0229, val_acc: 0.4736\n",
            "Epoch [12/50], Loss: 0.0229, val_loss: 0.0222, val_acc: 0.4902\n",
            "Epoch [13/50], Loss: 0.0225, val_loss: 0.0224, val_acc: 0.4898\n",
            "Epoch [14/50], Loss: 0.0224, val_loss: 0.0220, val_acc: 0.4949\n",
            "Epoch [15/50], Loss: 0.0222, val_loss: 0.0225, val_acc: 0.4902\n",
            "Epoch [16/50], Loss: 0.0220, val_loss: 0.0216, val_acc: 0.5120\n",
            "Epoch [17/50], Loss: 0.0219, val_loss: 0.0221, val_acc: 0.5036\n",
            "Epoch [18/50], Loss: 0.0217, val_loss: 0.0216, val_acc: 0.5048\n",
            "Epoch [19/50], Loss: 0.0215, val_loss: 0.0219, val_acc: 0.5053\n",
            "Epoch [20/50], Loss: 0.0214, val_loss: 0.0214, val_acc: 0.5140\n",
            "Epoch [21/50], Loss: 0.0213, val_loss: 0.0213, val_acc: 0.5138\n",
            "Epoch [22/50], Loss: 0.0211, val_loss: 0.0213, val_acc: 0.5153\n",
            "Epoch [23/50], Loss: 0.0211, val_loss: 0.0218, val_acc: 0.5076\n",
            "Epoch [24/50], Loss: 0.0210, val_loss: 0.0208, val_acc: 0.5287\n",
            "Epoch [25/50], Loss: 0.0208, val_loss: 0.0211, val_acc: 0.5229\n",
            "Epoch [26/50], Loss: 0.0208, val_loss: 0.0211, val_acc: 0.5218\n",
            "Epoch [27/50], Loss: 0.0206, val_loss: 0.0210, val_acc: 0.5156\n",
            "Epoch [28/50], Loss: 0.0206, val_loss: 0.0211, val_acc: 0.5196\n",
            "Epoch [29/50], Loss: 0.0204, val_loss: 0.0208, val_acc: 0.5290\n",
            "Epoch [30/50], Loss: 0.0204, val_loss: 0.0213, val_acc: 0.5177\n",
            "Epoch [31/50], Loss: 0.0202, val_loss: 0.0210, val_acc: 0.5201\n",
            "Epoch [32/50], Loss: 0.0203, val_loss: 0.0214, val_acc: 0.5123\n",
            "Epoch [33/50], Loss: 0.0202, val_loss: 0.0206, val_acc: 0.5353\n",
            "Epoch [34/50], Loss: 0.0201, val_loss: 0.0210, val_acc: 0.5246\n",
            "Epoch [35/50], Loss: 0.0200, val_loss: 0.0208, val_acc: 0.5295\n",
            "Epoch [36/50], Loss: 0.0199, val_loss: 0.0212, val_acc: 0.5226\n",
            "Epoch [37/50], Loss: 0.0198, val_loss: 0.0211, val_acc: 0.5246\n",
            "Epoch [38/50], Loss: 0.0197, val_loss: 0.0208, val_acc: 0.5273\n",
            "Epoch [39/50], Loss: 0.0196, val_loss: 0.0208, val_acc: 0.5265\n",
            "Epoch [40/50], Loss: 0.0197, val_loss: 0.0206, val_acc: 0.5336\n",
            "Epoch [41/50], Loss: 0.0195, val_loss: 0.0218, val_acc: 0.5060\n",
            "Epoch [42/50], Loss: 0.0195, val_loss: 0.0211, val_acc: 0.5223\n",
            "Epoch [43/50], Loss: 0.0194, val_loss: 0.0209, val_acc: 0.5199\n",
            "Epoch [44/50], Loss: 0.0193, val_loss: 0.0205, val_acc: 0.5373\n",
            "Epoch [45/50], Loss: 0.0193, val_loss: 0.0205, val_acc: 0.5368\n",
            "Epoch [46/50], Loss: 0.0191, val_loss: 0.0211, val_acc: 0.5228\n",
            "Epoch [47/50], Loss: 0.0192, val_loss: 0.0208, val_acc: 0.5261\n",
            "Epoch [48/50], Loss: 0.0193, val_loss: 0.0208, val_acc: 0.5259\n",
            "Epoch [49/50], Loss: 0.0191, val_loss: 0.0204, val_acc: 0.5410\n",
            "Epoch [50/50], Loss: 0.0190, val_loss: 0.0210, val_acc: 0.5275\n"
          ]
        }
      ],
      "source": [
        "#50エポック\n",
        "num_epochs = 50\n",
        "\n",
        "#最後にlossとaccuracyのグラフをプロットするためのリスト\n",
        "train_loss_list = []\n",
        "train_acc_list = []\n",
        "val_loss_list = []\n",
        "val_acc_list = []\n",
        "\n",
        "for epoch in range(num_epochs):\n",
        "    #エポックごとに初期化\n",
        "    train_loss = 0\n",
        "    train_acc = 0\n",
        "    val_loss = 0\n",
        "    val_acc = 0\n",
        "    \n",
        "    #train==============================\n",
        "    #訓練モードへ切り替え\n",
        "    net.train()\n",
        "    #ミニバッチで分割して読み込む\n",
        "    for i, (images, labels) in enumerate(train_loader):\n",
        "        #viewで縦横32ピクセルで3チャンネルの画像を１次元に変換\n",
        "        #toでgpuに転送\n",
        "        images, labels = images.view(-1, 32*32*3).to(device), labels.to(device)\n",
        "\n",
        "        #勾配をリセット\n",
        "        optimizer.zero_grad()\n",
        "        #順伝播の計算\n",
        "        outputs = net(images)\n",
        "        #lossの計算\n",
        "        loss = criterion(outputs, labels)\n",
        "        #lossのミニバッチ分を溜め込む\n",
        "        train_loss += loss.item()\n",
        "        #accuracyをミニバッチ分を溜め込む\n",
        "        #正解ラベル（labels）と予測値のtop1（outputs.max(1)）が合っている場合に1が返ってきます。\n",
        "        train_acc += (outputs.max(1)[1] == labels).sum().item()\n",
        "        #逆伝播の計算\n",
        "        loss.backward()\n",
        "        #重みの更新\n",
        "        optimizer.step()\n",
        "    #平均lossと平均accuracyを計算\n",
        "    avg_train_loss = train_loss / len(train_loader)\n",
        "    avg_train_acc = train_acc / len(train_loader.dataset)\n",
        "    \n",
        "    #val==============================\n",
        "    #評価モードへ切り替え\n",
        "    net.eval()\n",
        "    #評価するときに必要のない計算が走らないようにtorch.no_gradを使用しています。\n",
        "    with torch.no_grad():\n",
        "        for images, labels in test_loader:        \n",
        "            images, labels = images.view(-1, 32*32*3).to(device), labels.to(device)\n",
        "            outputs = net(images)\n",
        "            loss = criterion(outputs, labels)\n",
        "            val_loss += loss.item()\n",
        "            val_acc += (outputs.max(1)[1] == labels).sum().item()\n",
        "    avg_val_loss = val_loss / len(test_loader)\n",
        "    avg_val_acc = val_acc / len(test_loader.dataset)\n",
        "    \n",
        "    #訓練データのlossと検証データのlossとaccuracyをログで出しています。\n",
        "    print ('Epoch [{}/{}], Loss: {loss:.4f}, val_loss: {val_loss:.4f}, val_acc: {val_acc:.4f}' \n",
        "           .format(epoch+1, num_epochs, i+1, loss=avg_train_loss, val_loss=avg_val_loss, val_acc=avg_val_acc))\n",
        "    #最後にグラフをプロットするようにリストに格納\n",
        "    train_loss_list.append(avg_train_loss)\n",
        "    train_acc_list.append(avg_train_acc)\n",
        "    val_loss_list.append(avg_val_loss)\n",
        "    val_acc_list.append(avg_val_acc)"
      ]
    },
    {
      "cell_type": "markdown",
      "metadata": {
        "colab_type": "text",
        "id": "NY1Glq4H4o-k"
      },
      "source": [
        "## 結果をプロット"
      ]
    },
    {
      "cell_type": "code",
      "execution_count": null,
      "metadata": {
        "colab": {
          "base_uri": "https://localhost:8080/",
          "height": 571
        },
        "colab_type": "code",
        "id": "oZcIL3SdOckB",
        "outputId": "65133f18-4c89-4169-a03d-041ee528b80a"
      },
      "outputs": [
        {
          "data": {
            "image/png": "[encoded data removed]",
            "text/plain": [
              "<matplotlib.figure.Figure at 0x7f44f78a46a0>"
            ]
          },
          "metadata": {
            "tags": []
          },
          "output_type": "display_data"
        },
        {
          "data": {
            "image/png": "[encoded data removed]",
            "text/plain": [
              "<matplotlib.figure.Figure at 0x7f44f5568400>"
            ]
          },
          "metadata": {
            "tags": []
          },
          "output_type": "display_data"
        }
      ],
      "source": [
        "import matplotlib.pyplot as plt\n",
        "%matplotlib inline\n",
        "\n",
        "plt.figure()\n",
        "plt.plot(range(num_epochs), train_loss_list, color='blue', linestyle='-', label='train_loss')\n",
        "plt.plot(range(num_epochs), val_loss_list, color='green', linestyle='--', label='val_loss')\n",
        "plt.legend()\n",
        "plt.xlabel('epoch')\n",
        "plt.ylabel('loss')\n",
        "plt.title('Training and validation loss')\n",
        "plt.grid()\n",
        "\n",
        "plt.figure()\n",
        "plt.plot(range(num_epochs), train_acc_list, color='blue', linestyle='-', label='train_acc')\n",
        "plt.plot(range(num_epochs), val_acc_list, color='green', linestyle='--', label='val_acc')\n",
        "plt.legend()\n",
        "plt.xlabel('epoch')\n",
        "plt.ylabel('acc')\n",
        "plt.title('Training and validation accuracy')\n",
        "plt.grid()"
      ]
    },
    {
      "cell_type": "code",
      "execution_count": null,
      "metadata": {
        "colab": {},
        "colab_type": "code",
        "id": "i9Tt4Xoq3P1f"
      },
      "outputs": [],
      "source": [
        "# ネットワークを保存する\n",
        "torch.save(net.state_dict(), 'net.ckpt')"
      ]
    },
    {
      "cell_type": "code",
      "execution_count": null,
      "metadata": {
        "colab": {},
        "colab_type": "code",
        "id": "-IjgKyrXR95k"
      },
      "outputs": [],
      "source": [
        "# ネットワークを読み込む\n",
        "net2 = MLPNet().to(device)\n",
        "net2.load_state_dict(torch.load('net.ckpt'))"
      ]
    },
    {
      "cell_type": "markdown",
      "metadata": {
        "colab_type": "text",
        "id": "Bedn5L9I4LQP"
      },
      "source": [
        "## 推論"
      ]
    },
    {
      "cell_type": "code",
      "execution_count": null,
      "metadata": {
        "colab": {
          "base_uri": "https://localhost:8080/",
          "height": 34
        },
        "colab_type": "code",
        "id": "udcqZxT33thp",
        "outputId": "d55b00c1-2e47-462f-af6b-e157cb943427"
      },
      "outputs": [
        {
          "name": "stdout",
          "output_type": "stream",
          "text": [
            "精度: 52.75 %\n"
          ]
        }
      ],
      "source": [
        "net2.eval()\n",
        "with torch.no_grad():\n",
        "    total = 0\n",
        "    test_acc = 0\n",
        "    for images, labels in test_loader:        \n",
        "        images, labels = images.view(-1, 32*32*3).to(device), labels.to(device)\n",
        "        outputs = net2(images)\n",
        "        test_acc += (outputs.max(1)[1] == labels).sum().item()\n",
        "        total += labels.size(0)\n",
        "    print('精度: {} %'.format(100 * test_acc / total)) "
      ]
    },
    {
      "cell_type": "code",
      "execution_count": null,
      "metadata": {
        "colab": {},
        "colab_type": "code",
        "id": "Wn4DpOX76gv0"
      },
      "outputs": [],
      "source": []
    }
  ],
  "metadata": {
    "accelerator": "GPU",
    "colab": {
      "collapsed_sections": [],
      "name": "section3_1.ipynb",
      "provenance": [],
      "version": "0.3.2"
    },
    "kernelspec": {
      "display_name": "pytorch_handbook-cxE4JzpW",
      "language": "python",
      "name": "python3"
    },
    "language_info": {
      "codemirror_mode": {
        "name": "ipython",
        "version": 3
      },
      "file_extension": ".py",
      "mimetype": "text/x-python",
      "name": "python",
      "nbconvert_exporter": "python",
      "pygments_lexer": "ipython3",
      "version": "3.6.13 (default, Feb 12 2023, 23:20:22) \n[GCC 7.5.0]"
    },
    "vscode": {
      "interpreter": {
        "hash": "1a1627ff8c3f0278be0285d4bfdc18dde91f8374edbf4a554c43de70be81795e"
      }
    }
  },
  "nbformat": 4,
  "nbformat_minor": 0
}
