{
  "cells": [
    {
      "cell_type": "code",
      "execution_count": 1,
      "metadata": {
        "colab": {
          "base_uri": "https://localhost:8080/",
          "height": 1023
        },
        "colab_type": "code",
        "id": "YNNzI3Nei5_R",
        "outputId": "e9f6330a-d53d-49ed-8e9b-d58a6131b169"
      },
      "outputs": [],
      "source": [
        "# #colabを使う方はこちらを使用ください。\n",
        "# !pip install torch==1.5.0\n",
        "# !pip install torchvision==0.6.0\n",
        "# !pip install torchtext==0.3.1\n",
        "# !pip install numpy==1.21.6\n",
        "# !pip install matplotlib==3.2.2\n",
        "# !pip install Pillow==7.1.2\n",
        "# !pip install opencv-python==4.6.0"
      ]
    },
    {
      "cell_type": "code",
      "execution_count": null,
      "metadata": {
        "colab": {},
        "colab_type": "code",
        "id": "MdrHtd7PUx4k"
      },
      "outputs": [],
      "source": [
        "import torch\n",
        "import torch.nn as nn\n",
        "import torch.nn.init as init\n",
        "import torch.optim as optim\n",
        "import torch.nn.functional as F\n",
        "#torchtextを使用\n",
        "from torchtext import data\n",
        "from torchtext import vocab\n",
        "from torchtext import datasets\n",
        "\n",
        "%matplotlib inline\n",
        "import numpy as np\n",
        "from matplotlib import pyplot as plt"
      ]
    },
    {
      "cell_type": "code",
      "execution_count": null,
      "metadata": {
        "colab": {
          "base_uri": "https://localhost:8080/",
          "height": 34
        },
        "colab_type": "code",
        "id": "iKImy2BUFhsV",
        "outputId": "12105342-56c7-4318-9eff-69174552f38f"
      },
      "outputs": [
        {
          "data": {
            "text/plain": [
              "device(type='cuda')"
            ]
          },
          "execution_count": 3,
          "metadata": {
            "tags": []
          },
          "output_type": "execute_result"
        }
      ],
      "source": [
        "# データとモデルに.to(device)を指定してgpuの計算資源を使用する。\n",
        "device = torch.device('cuda' if torch.cuda.is_available() else 'cpu')\n",
        "device"
      ]
    },
    {
      "cell_type": "markdown",
      "metadata": {
        "colab_type": "text",
        "id": "2jl3gAMtKwVZ"
      },
      "source": [
        "# LSTMを使用した文章分類：IMDB"
      ]
    },
    {
      "cell_type": "markdown",
      "metadata": {
        "colab_type": "text",
        "id": "EZCb_JRyP67N"
      },
      "source": [
        "## データの読み込み"
      ]
    },
    {
      "cell_type": "code",
      "execution_count": null,
      "metadata": {
        "colab": {},
        "colab_type": "code",
        "id": "6dxJ19E3Fs90"
      },
      "outputs": [],
      "source": [
        "# ハイパーパラメータ\n",
        "batch_size = 32 #バッチサイズ\n",
        "output_size = 2 #fcの出力次元\n",
        "hidden_size = 256 #lstmの出力次元\n",
        "embedding_length = 300 #埋め込みベクトルの出力次元"
      ]
    },
    {
      "cell_type": "code",
      "execution_count": null,
      "metadata": {
        "colab": {
          "base_uri": "https://localhost:8080/",
          "height": 102
        },
        "colab_type": "code",
        "id": "eDKemNkqFuud",
        "outputId": "a8b56c2d-1215-45e5-a802-ca83cdb3073d"
      },
      "outputs": [
        {
          "name": "stdout",
          "output_type": "stream",
          "text": [
            "downloading aclImdb_v1.tar.gz\n"
          ]
        },
        {
          "name": "stderr",
          "output_type": "stream",
          "text": [
            "aclImdb_v1.tar.gz: 100%|██████████| 84.1M/84.1M [00:06<00:00, 12.1MB/s]\n"
          ]
        },
        {
          "name": "stdout",
          "output_type": "stream",
          "text": [
            "17500\n",
            "7500\n",
            "25000\n"
          ]
        }
      ],
      "source": [
        "# 前処理用の機能のFieldをセットアップ\n",
        "# トークン化の方式を指定\n",
        "tokenize = lambda x: x.split()\n",
        "#Field\n",
        "#include_lengths=Trueでイテレータが長さも含めたタプルを返す\n",
        "#batch_first=Trueにしてる\n",
        "TEXT = data.Field(sequential=True, tokenize=tokenize, lower=True, include_lengths=True, batch_first=True, fix_length=200)\n",
        "#LabelField\n",
        "LABEL = data.LabelField()\n",
        "# IMDB映画レビューデータセット。映画レビューテキストデータとpositive, negativeのラベル。\n",
        "# splitsでデータを分割\n",
        "train_dataset, test_dataset = datasets.IMDB.splits(TEXT, LABEL)\n",
        "train_dataset, val_dataset = train_dataset.split()\n",
        "\n",
        "print(len(train_dataset))\n",
        "print(len(val_dataset))\n",
        "print(len(test_dataset))"
      ]
    },
    {
      "cell_type": "code",
      "execution_count": null,
      "metadata": {
        "colab": {
          "base_uri": "https://localhost:8080/",
          "height": 88
        },
        "colab_type": "code",
        "id": "SKNziQuL0zoW",
        "outputId": "d8d932c9-84a8-43e4-f973-5f116cf4a8b8"
      },
      "outputs": [
        {
          "name": "stdout",
          "output_type": "stream",
          "text": [
            "[('the', 225379), ('a', 112117), ('and', 110728), ('of', 101083), ('to', 94064), ('is', 72993), ('in', 63363), ('i', 49107), ('this', 48899), ('that', 46326)]\n",
            "Counter({'neg': 8797, 'pos': 8703})\n",
            "['<unk>', '<pad>', 'the', 'a', 'and', 'of', 'to', 'is', 'in', 'i']\n"
          ]
        }
      ],
      "source": [
        "# build_vocabで単語の辞書を構築。IDと単語の一覧が作成されます。\n",
        "# 学習済み埋め込みベクトルに適応\n",
        "# min_freqで出現頻度の低い単語を省く。\n",
        "TEXT.build_vocab(train_dataset, min_freq=3, vectors=vocab.GloVe(name='6B', dim=300))\n",
        "LABEL.build_vocab(train_dataset)\n",
        "\n",
        "# 単語の件数のtop10\n",
        "print(TEXT.vocab.freqs.most_common(10))\n",
        "# ラベルごと件数\n",
        "print(LABEL.vocab.freqs)\n",
        "# 単語\n",
        "print(TEXT.vocab.itos[:10])\n",
        "# BucketIteratorでバッチ単位にします。\n",
        "train_iter, val_iter, test_iter = data.BucketIterator.splits((train_dataset, val_dataset, test_dataset), batch_size=32, sort_key=lambda x: len(x.text), repeat=False, shuffle=True)\n",
        "\n",
        "#単語数\n",
        "vocab_size = len(TEXT.vocab)\n",
        "#埋め込みベクトル\n",
        "word_embeddings = TEXT.vocab.vectors"
      ]
    },
    {
      "cell_type": "code",
      "execution_count": null,
      "metadata": {
        "colab": {
          "base_uri": "https://localhost:8080/",
          "height": 156
        },
        "colab_type": "code",
        "id": "wzxVN-gE01RB",
        "outputId": "a4f4c5c2-9a2d-47f3-dee7-bd9ba85e6ffd"
      },
      "outputs": [
        {
          "name": "stdout",
          "output_type": "stream",
          "text": [
            "torch.Size([32, 200])\n",
            "torch.Size([32])\n",
            "torch.Size([32])\n",
            "１データ目の単語列を表示\n",
            "['<unk>', 'movie', 'could', 'have', 'been', 'soooo', 'good!', 'all', 'generations', 'have', 'been', 'exposed', 'to', 'thunderbirds', 'and', 'have', 'come', 'to', 'love', 'it', 'and', 'this', 'film', 'had', 'some', 'of', 'the', 'features', 'one', 'would', 'look', 'for', 'in', 'a', 'good', 'thunderbirds', 'movie.', 'the', 'craft', 'themselves', 'and', 'tracey', 'island', 'were', 'realistically', 'transferred', 'to', 'the', 'big', 'screen,', 'whilst', 'still', 'keeping', 'to', 'the', 'designs', 'we', 'fell', 'in', 'love', 'with.', 'sophia', 'miles', 'was,', 'simply,', 'fantastic,', 'as', 'lady', 'p', 'and', 'bill', 'paxton,', 'whilst', 'not', 'exactly', 'who', 'i', '<unk>', 'jeff', 'tracey', 'being,', 'was', 'solid', '<unk>', 'then', 'the', 'adults', 'were', 'taken', 'out', 'of', 'the', 'equation', 'and', 'we', 'were', 'asked', 'to', 'believe', '8', 'year', 'olds', 'could', 'fly', '200', '<unk>', 'machines.<br', '/><br', \"/>it's\", 'not', 'so', 'much', 'the', 'fact', 'that', 'the', 'movie', 'was', 'centred', 'around', 'the', 'children', 'that', 'made', 'me', 'feel', 'like', 'jonathon', 'frakes', 'was', 'slapping', 'me', 'with', 'a', 'wet', 'fish', 'and', 'laughing', 'at', 'my', 'hard', 'earned', 'money', 'spent', 'on', 'the', 'film,', 'it', 'was', 'the', 'fact', 'that', 'alan', 'tracey', 'was', 'so', 'obnoxious', 'in', 'the', 'film', 'and', 'that', 'he', 'seemed', 'to', 'be', 'as', 'able', 'to', 'fly', 'the', 'machines', 'as', 'well', 'as', 'his', '<unk>', 'were', 'at', 'least', '<unk>', 'seriously,', 'these', 'are', 'some', 'pretty', 'damn', 'simple', 'machines', 'to', 'use', 'if', 'this', 'is', 'the', 'case.<br', '/><br', '/>the', 'film', \"didn't\"]\n",
            "ラベル\n",
            "0\n"
          ]
        }
      ],
      "source": [
        "#データの確認\n",
        "for i, batch in enumerate(train_iter):\n",
        "    #バッチサイズ、単語列の長さ\n",
        "    #バッチサイズ３２、data.Fieldでfix_length=200を指定したので200文字。\n",
        "    print(batch.text[0].size())\n",
        "    #ラベル\n",
        "    print(batch.text[1].size())\n",
        "    print(batch.label.size())\n",
        "    print('１データ目の単語列を表示')\n",
        "#     print(batch.text[0][0])\n",
        "#     print(batch.text[1][0])\n",
        "#     print(batch.label[0])\n",
        "    print([TEXT.vocab.itos[data] for data in  batch.text[0][0].tolist()])\n",
        "    print('ラベル')\n",
        "    print(batch.label[0].item())\n",
        "    break"
      ]
    },
    {
      "cell_type": "markdown",
      "metadata": {
        "colab_type": "text",
        "id": "IsEJwlJ0QATa"
      },
      "source": [
        "## ネットワークを定義"
      ]
    },
    {
      "cell_type": "code",
      "execution_count": null,
      "metadata": {
        "colab": {},
        "colab_type": "code",
        "id": "N6BK4YCPWxaN"
      },
      "outputs": [],
      "source": [
        "class LstmClassifier(nn.Module):\n",
        "    def __init__(self, batch_size, hidden_size, output_size, vocab_size, embedding_length, weights):\n",
        "        super(LstmClassifier, self).__init__()\n",
        "        self.batch_size = batch_size\n",
        "        self.hidden_size = hidden_size\n",
        "        self.output_size = output_size\n",
        "        self.vocab_size = vocab_size\n",
        "        self.embed = nn.Embedding(vocab_size, embedding_length)\n",
        "        #学習済みの埋め込みベクトルを使用\n",
        "        self.embed.weight.data.copy_(weights)\n",
        "        self.lstm = nn.LSTM(embedding_length, hidden_size, batch_first=True) #batch_first=Trueにしてる\n",
        "        self.fc = nn.Linear(hidden_size, output_size)\n",
        "    \n",
        "    def forward(self, x):\n",
        "        x = self.embed(x)\n",
        "        # 初期隠れ状態とセル状態を設定\n",
        "        h0 = torch.zeros(1, self.batch_size, self.hidden_size).to(device)\n",
        "        c0 = torch.zeros(1, self.batch_size, self.hidden_size).to(device)\n",
        "        # LSTMを伝播する\n",
        "        # output_seqの出力形状：（バッチサイズ、シーケンス長、出力次元）\n",
        "        output_seq, (h_n, c_n) = self.lstm(x, (h0, c0))        \n",
        "        # 最後のタイムステップの隠れ状態をデコード\n",
        "        out = self.fc(h_n[-1]) \n",
        "        return out\n",
        "\n",
        "net = LstmClassifier(batch_size, hidden_size, output_size, vocab_size, embedding_length, word_embeddings)\n",
        "net = net.to(device)\n"
      ]
    },
    {
      "cell_type": "code",
      "execution_count": null,
      "metadata": {
        "colab": {},
        "colab_type": "code",
        "id": "Bh02-Wyhdj8Y"
      },
      "outputs": [],
      "source": [
        "# 損失関数、最適化関数を定義\n",
        "criterion = nn.CrossEntropyLoss()\n",
        "optim = optim.Adam(filter(lambda p: p.requires_grad, net.parameters()))"
      ]
    },
    {
      "cell_type": "markdown",
      "metadata": {
        "colab_type": "text",
        "id": "7Un3NIoLQC52"
      },
      "source": [
        "## 学習"
      ]
    },
    {
      "cell_type": "code",
      "execution_count": null,
      "metadata": {
        "colab": {
          "base_uri": "https://localhost:8080/",
          "height": 187
        },
        "colab_type": "code",
        "id": "Dri34muf1arJ",
        "outputId": "0ecf2996-3837-4f17-b132-41bcdd06ed0b"
      },
      "outputs": [
        {
          "name": "stdout",
          "output_type": "stream",
          "text": [
            "Epoch [1/10], Loss: 0.0215, val_loss: 0.0210, val_acc: 0.5712\n",
            "Epoch [2/10], Loss: 0.0168, val_loss: 0.0147, val_acc: 0.8083\n",
            "Epoch [3/10], Loss: 0.0121, val_loss: 0.0127, val_acc: 0.8351\n",
            "Epoch [4/10], Loss: 0.0053, val_loss: 0.0127, val_acc: 0.8537\n",
            "Epoch [5/10], Loss: 0.0016, val_loss: 0.0161, val_acc: 0.8460\n",
            "Epoch [6/10], Loss: 0.0005, val_loss: 0.0202, val_acc: 0.8340\n",
            "Epoch [7/10], Loss: 0.0002, val_loss: 0.0249, val_acc: 0.8371\n",
            "Epoch [8/10], Loss: 0.0001, val_loss: 0.0281, val_acc: 0.8404\n",
            "Epoch [9/10], Loss: 0.0001, val_loss: 0.0309, val_acc: 0.8397\n",
            "Epoch [10/10], Loss: 0.0000, val_loss: 0.0295, val_acc: 0.8380\n"
          ]
        }
      ],
      "source": [
        "num_epochs = 10\n",
        "\n",
        "train_loss_list = []\n",
        "train_acc_list = []\n",
        "val_loss_list = []\n",
        "val_acc_list = []\n",
        "\n",
        "for epoch in range(num_epochs):\n",
        "    train_loss = 0\n",
        "    train_acc = 0\n",
        "    val_loss = 0\n",
        "    val_acc = 0\n",
        "    \n",
        "    #train\n",
        "    net.train()\n",
        "    for i, batch in enumerate(train_iter):\n",
        "        text = batch.text[0]\n",
        "        text = text.to(device)\n",
        "        if (text.size()[0] is not 32):\n",
        "            continue\n",
        "        labels = batch.label\n",
        "        labels = labels.to(device)\n",
        "        optim.zero_grad()\n",
        "        outputs = net(text)\n",
        "        loss = criterion(outputs, labels)\n",
        "        train_loss += loss.item()\n",
        "        train_acc += (outputs.max(1)[1] == labels).sum().item()\n",
        "        loss.backward()\n",
        "        optim.step()\n",
        "    avg_train_loss = train_loss / len(train_iter)\n",
        "    avg_train_acc = train_acc / len(train_iter.dataset)\n",
        "    \n",
        "    #val\n",
        "    net.eval()\n",
        "    with torch.no_grad():\n",
        "      for batch in val_iter:\n",
        "        text = batch.text[0]\n",
        "        text = text.to(device)\n",
        "        if (text.size()[0] is not 32):\n",
        "            continue\n",
        "        labels = batch.label\n",
        "        labels = labels.to(device)\n",
        "        outputs = net(text)\n",
        "        loss = criterion(outputs, labels)\n",
        "        val_loss += loss.item()\n",
        "        val_acc += (outputs.max(1)[1] == labels).sum().item()\n",
        "    avg_val_loss = val_loss / len(val_iter)\n",
        "    avg_val_acc = val_acc / len(val_iter.dataset)\n",
        "    \n",
        "    print ('Epoch [{}/{}], Loss: {loss:.4f}, val_loss: {val_loss:.4f}, val_acc: {val_acc:.4f}' \n",
        "           .format(epoch+1, num_epochs, i+1, loss=avg_train_loss, val_loss=avg_val_loss, val_acc=avg_val_acc))\n",
        "    train_loss_list.append(avg_train_loss)\n",
        "    train_acc_list.append(avg_train_acc)\n",
        "    val_loss_list.append(avg_val_loss)\n",
        "    val_acc_list.append(avg_val_acc)\n"
      ]
    },
    {
      "cell_type": "code",
      "execution_count": null,
      "metadata": {
        "colab": {
          "base_uri": "https://localhost:8080/",
          "height": 571
        },
        "colab_type": "code",
        "id": "9YbaA0tO14NO",
        "outputId": "278bb935-e01c-4e25-b836-3df2c43048a3"
      },
      "outputs": [
        {
          "data": {
            "image/png": "[encoded data removed]",
            "text/plain": [
              "<matplotlib.figure.Figure at 0x7fb1f5949470>"
            ]
          },
          "metadata": {
            "tags": []
          },
          "output_type": "display_data"
        },
        {
          "data": {
            "image/png": "[encoded data removed]",
            "text/plain": [
              "<matplotlib.figure.Figure at 0x7fb1b8a1a160>"
            ]
          },
          "metadata": {
            "tags": []
          },
          "output_type": "display_data"
        }
      ],
      "source": [
        "import matplotlib.pyplot as plt\n",
        "%matplotlib inline\n",
        "\n",
        "plt.figure()\n",
        "plt.plot(range(num_epochs), train_loss_list, color='blue', linestyle='-', label='train_loss')\n",
        "plt.plot(range(num_epochs), val_loss_list, color='green', linestyle='--', label='val_loss')\n",
        "plt.legend()\n",
        "plt.xlabel('epoch')\n",
        "plt.ylabel('loss')\n",
        "plt.title('Training and validation loss')\n",
        "plt.grid()\n",
        "\n",
        "plt.figure()\n",
        "plt.plot(range(num_epochs), train_acc_list, color='blue', linestyle='-', label='train_acc')\n",
        "plt.plot(range(num_epochs), val_acc_list, color='green', linestyle='--', label='val_acc')\n",
        "plt.legend()\n",
        "plt.xlabel('epoch')\n",
        "plt.ylabel('acc')\n",
        "plt.title('Training and validation accuracy')\n",
        "plt.grid()"
      ]
    },
    {
      "cell_type": "markdown",
      "metadata": {
        "colab_type": "text",
        "id": "5RRaHvhVQVkn"
      },
      "source": [
        "## 推論"
      ]
    },
    {
      "cell_type": "code",
      "execution_count": null,
      "metadata": {
        "colab": {
          "base_uri": "https://localhost:8080/",
          "height": 34
        },
        "colab_type": "code",
        "id": "3JFdqGOJ2F2o",
        "outputId": "eaefcf37-886d-49d8-880e-d4f9b8e9d3ab"
      },
      "outputs": [
        {
          "name": "stdout",
          "output_type": "stream",
          "text": [
            "精度: 81.22999359795135 %\n"
          ]
        }
      ],
      "source": [
        "net.eval()\n",
        "with torch.no_grad():\n",
        "    total = 0\n",
        "    test_acc = 0\n",
        "    for batch in test_iter:\n",
        "        text = batch.text[0]\n",
        "        text = text.to(device)\n",
        "        if (text.size()[0] is not 32):\n",
        "            continue\n",
        "        labels = batch.label\n",
        "        labels = labels.to(device)\n",
        "\n",
        "        outputs = net(text)\n",
        "        test_acc += (outputs.max(1)[1] == labels).sum().item()\n",
        "        total += labels.size(0)\n",
        "    print('精度: {} %'.format(100 * test_acc / total)) \n",
        "\n"
      ]
    },
    {
      "cell_type": "code",
      "execution_count": null,
      "metadata": {
        "colab": {},
        "colab_type": "code",
        "id": "JG26e8-03hfY"
      },
      "outputs": [],
      "source": []
    }
  ],
  "metadata": {
    "accelerator": "GPU",
    "colab": {
      "collapsed_sections": [],
      "name": "section5_3.ipynb",
      "provenance": [],
      "version": "0.3.2"
    },
    "kernelspec": {
      "display_name": "pytorch_handbook-cxE4JzpW",
      "language": "python",
      "name": "python3"
    },
    "language_info": {
      "codemirror_mode": {
        "name": "ipython",
        "version": 3
      },
      "file_extension": ".py",
      "mimetype": "text/x-python",
      "name": "python",
      "nbconvert_exporter": "python",
      "pygments_lexer": "ipython3",
      "version": "3.6.13 (default, Feb 12 2023, 23:20:22) \n[GCC 7.5.0]"
    },
    "vscode": {
      "interpreter": {
        "hash": "1a1627ff8c3f0278be0285d4bfdc18dde91f8374edbf4a554c43de70be81795e"
      }
    }
  },
  "nbformat": 4,
  "nbformat_minor": 0
}
