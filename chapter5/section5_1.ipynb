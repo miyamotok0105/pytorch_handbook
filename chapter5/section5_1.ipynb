{
 "cells": [
  {
   "cell_type": "code",
   "execution_count": null,
   "metadata": {
    "colab": {},
    "colab_type": "code",
    "id": "19wNoz_c6wB-"
   },
   "outputs": [],
   "source": [
    "# #colabを使う方はこちらを使用ください。\n",
    "# !pip install torch==1.5.0\n",
    "# !pip install torchvision==0.6.0\n",
    "# !pip install torchtext==0.3.1\n",
    "# !pip install numpy==1.21.6\n",
    "# !pip install matplotlib==3.2.2\n",
    "# !pip install Pillow==7.1.2\n",
    "# !pip install opencv-python==4.6.0"
   ]
  },
  {
   "cell_type": "code",
   "execution_count": null,
   "metadata": {
    "colab": {},
    "colab_type": "code",
    "id": "I3fYtIRR4qoe"
   },
   "outputs": [],
   "source": [
    "import torch\n",
    "import torch.nn as nn"
   ]
  },
  {
   "cell_type": "code",
   "execution_count": 5,
   "metadata": {
    "colab": {
     "base_uri": "https://localhost:8080/",
     "height": 87
    },
    "colab_type": "code",
    "executionInfo": {
     "elapsed": 779,
     "status": "ok",
     "timestamp": 1545398244660,
     "user": {
      "displayName": "毛利拓也",
      "photoUrl": "",
      "userId": "08390690373224670154"
     },
     "user_tz": -540
    },
    "id": "KpSorot44qok",
    "outputId": "a455bd75-83bc-47c4-c053-b6e3201d7d7d"
   },
   "outputs": [
    {
     "name": "stdout",
     "output_type": "stream",
     "text": [
      "LSTM input: torch.Size([1, 10, 2])\n",
      "LSTM output: torch.Size([1, 10, 4])\n",
      "LSTMCell input: torch.Size([20, 2])\n",
      "LSTMCell output torch.Size([20, 4])\n"
     ]
    }
   ],
   "source": [
    "x = torch.randn(1, 10, 2)   # LSTMの入力\n",
    "print('LSTM input:', x.shape)\n",
    "\n",
    "lstm_net = nn.LSTM(input_size=2, hidden_size=4, batch_first=True)\n",
    "\n",
    "y, _ = lstm_net(x)  # LSTMの出力\n",
    "print('LSTM output:', y.shape)\n",
    "\n",
    "x = torch.randn(20, 2)      # LSTMCellの入力\n",
    "h0 = torch.randn(20, 4)     # LSTMCellの中間層の初期値\n",
    "c0 = torch.randn(20, 4)     # LSTMCellのセル状態の初期値\n",
    "print('LSTMCell input:', x.shape)\n",
    "\n",
    "lstm_cell_net = nn.LSTMCell(input_size=2, hidden_size=4)\n",
    "\n",
    "y, _ = lstm_cell_net(x, (h0, c0))   # LSTMCellの出力\n",
    "print('LSTMCell output', y.shape)"
   ]
  },
  {
   "cell_type": "code",
   "execution_count": null,
   "metadata": {
    "colab": {},
    "colab_type": "code",
    "id": "DdM6SR734_oD"
   },
   "outputs": [],
   "source": []
  }
 ],
 "metadata": {
  "accelerator": "GPU",
  "colab": {
   "collapsed_sections": [],
   "name": "section5_1.ipynb",
   "provenance": [],
   "version": "0.3.2"
  },
  "kernelspec": {
   "display_name": "pytorch_handbook-cxE4JzpW",
   "language": "python",
   "name": "python3"
  },
  "language_info": {
   "codemirror_mode": {
    "name": "ipython",
    "version": 3
   },
   "file_extension": ".py",
   "mimetype": "text/x-python",
   "name": "python",
   "nbconvert_exporter": "python",
   "pygments_lexer": "ipython3",
   "version": "3.6.13"
  },
  "vscode": {
   "interpreter": {
    "hash": "1a1627ff8c3f0278be0285d4bfdc18dde91f8374edbf4a554c43de70be81795e"
   }
  }
 },
 "nbformat": 4,
 "nbformat_minor": 1
}
